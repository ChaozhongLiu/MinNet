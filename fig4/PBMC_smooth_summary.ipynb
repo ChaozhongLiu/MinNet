{
 "cells": [
  {
   "cell_type": "code",
   "execution_count": 1,
   "metadata": {},
   "outputs": [
    {
     "name": "stderr",
     "output_type": "stream",
     "text": [
      "/usr/local/lib/python3.6/dist-packages/dask/config.py:168: YAMLLoadWarning: calling yaml.load() without Loader=... is deprecated, as the default Loader is unsafe. Please read https://msg.pyyaml.org/load for full details.\n",
      "  data = yaml.load(f.read()) or {}\n",
      "/usr/local/lib/python3.6/dist-packages/statsmodels/tools/_testing.py:19: FutureWarning: pandas.util.testing is deprecated. Use the functions in the public API at pandas.testing instead.\n",
      "  import pandas.util.testing as tm\n"
     ]
    }
   ],
   "source": [
    "import functools\n",
    "import operator\n",
    "import os\n",
    "import sys\n",
    "\n",
    "import anndata as ad\n",
    "import networkx as nx\n",
    "import matplotlib.pyplot as plt\n",
    "import numpy as np\n",
    "import pandas as pd\n",
    "import scipy as sp\n",
    "import scanpy as sc\n",
    "import scipy.stats\n",
    "import seaborn as sns\n",
    "import sklearn.cluster\n",
    "import torch\n",
    "\n",
    "import sklearn.linear_model\n",
    "import sklearn.preprocessing\n",
    "import sklearn.metrics\n",
    "from matplotlib import rcParams\n",
    "from networkx.algorithms.bipartite import biadjacency_matrix\n",
    "\n",
    "import scglue\n",
    "import matplotlib.pyplot as plt\n",
    "\n",
    "os.environ[\"CUDA_DEVICE_ORDER\"] = \"PCI_BUS_ID\"\n",
    "os.environ[\"CUDA_VISIBLE_DEVICES\"] = '0'\n",
    "\n",
    "from sklearn.neighbors import NearestNeighbors\n",
    "from sklearn.preprocessing import normalize\n",
    "from sklearn.metrics import pairwise_distances\n",
    "\n",
    "\n",
    "from utils.test_util import test_data_multiome, Siamese_Test_multiome\n",
    "from utils.feature_util import feature_selection_multiome\n",
    "import utils.cis_infer_util as cis_infer_util\n"
   ]
  },
  {
   "cell_type": "markdown",
   "metadata": {},
   "source": [
    "### Sparsity Check"
   ]
  },
  {
   "cell_type": "code",
   "execution_count": 4,
   "metadata": {},
   "outputs": [],
   "source": [
    "input_mod1 = ad.read_h5ad('data/10XMultiome_GEX.PBMC.h5ad')\n",
    "input_mod1.X = input_mod1.layers['counts'].copy()\n",
    "input_mod2 = ad.read_h5ad('data/10XMultiome_ATAC.PBMC.h5ad')\n",
    "\n",
    "gene_spar = pd.DataFrame(np.mean(input_mod1.X > 0, axis=0))\n",
    "gene_spar.columns = ['Sparsity']\n",
    "gene_spar['Smoothing'] = 'No'\n",
    "gene_spar['Feature'] = 'GEX'\n",
    "gene_spar['ID'] = input_mod1.var_names.to_numpy()\n",
    "\n",
    "peak_spar = pd.DataFrame(np.mean(input_mod2.X > 0, axis=0))\n",
    "peak_spar.columns = ['Sparsity']\n",
    "peak_spar['Smoothing'] = 'No'\n",
    "peak_spar['Feature'] = 'ATAC'\n",
    "peak_spar['ID'] = input_mod2.var_names.to_numpy()\n",
    "\n",
    "spar_df = pd.concat([gene_spar, peak_spar])\n"
   ]
  },
  {
   "cell_type": "code",
   "execution_count": 7,
   "metadata": {},
   "outputs": [],
   "source": [
    "for num_nn in [5,10,15,20]:\n",
    "    input_mod1_sm = ad.read_h5ad('data/10XMultiome_GEX.PBMC.smoothed.%sNN.h5ad'%(num_nn))\n",
    "    input_mod1_sm.X = input_mod1_sm.layers['smoothed_counts'].copy()\n",
    "\n",
    "    input_mod2_sm = ad.read_h5ad('data/10XMultiome_ATAC.PBMC.smoothed.%sNN.h5ad'%(num_nn))\n",
    "    input_mod2_sm.X = input_mod2_sm.layers['smoothed_counts'].copy()\n",
    "    \n",
    "    gene_spar_sm = pd.DataFrame(np.mean(input_mod1_sm.X > 0, axis=0))\n",
    "    gene_spar_sm.columns = ['Sparsity']\n",
    "    gene_spar_sm['Smoothing'] = '%sNN'%(num_nn)\n",
    "    gene_spar_sm['Feature'] = 'GEX'\n",
    "    gene_spar_sm['ID'] = input_mod1_sm.var_names.to_numpy()\n",
    "\n",
    "    peak_spar_sm = pd.DataFrame(np.mean(input_mod2_sm.X > 0, axis=0))\n",
    "    peak_spar_sm.columns = ['Sparsity']\n",
    "    peak_spar_sm['Smoothing'] = '%sNN'%(num_nn)\n",
    "    peak_spar_sm['Feature'] = 'ATAC'\n",
    "    peak_spar_sm['ID'] = input_mod2_sm.var_names.to_numpy()\n",
    "    \n",
    "    spar_df = pd.concat([spar_df, gene_spar_sm, peak_spar_sm])\n",
    "\n",
    "spar_df = spar_df.iloc[:,[3,0,1,2]]"
   ]
  },
  {
   "cell_type": "code",
   "execution_count": 8,
   "metadata": {},
   "outputs": [
    {
     "data": {
      "text/html": [
       "<div>\n",
       "<style scoped>\n",
       "    .dataframe tbody tr th:only-of-type {\n",
       "        vertical-align: middle;\n",
       "    }\n",
       "\n",
       "    .dataframe tbody tr th {\n",
       "        vertical-align: top;\n",
       "    }\n",
       "\n",
       "    .dataframe thead th {\n",
       "        text-align: right;\n",
       "    }\n",
       "</style>\n",
       "<table border=\"1\" class=\"dataframe\">\n",
       "  <thead>\n",
       "    <tr style=\"text-align: right;\">\n",
       "      <th></th>\n",
       "      <th>ID</th>\n",
       "      <th>Sparsity</th>\n",
       "      <th>Smoothing</th>\n",
       "      <th>Feature</th>\n",
       "    </tr>\n",
       "  </thead>\n",
       "  <tbody>\n",
       "    <tr>\n",
       "      <th>0</th>\n",
       "      <td>MIR1302-2HG</td>\n",
       "      <td>0.000000</td>\n",
       "      <td>No</td>\n",
       "      <td>GEX</td>\n",
       "    </tr>\n",
       "    <tr>\n",
       "      <th>1</th>\n",
       "      <td>FAM138A</td>\n",
       "      <td>0.000000</td>\n",
       "      <td>No</td>\n",
       "      <td>GEX</td>\n",
       "    </tr>\n",
       "    <tr>\n",
       "      <th>2</th>\n",
       "      <td>OR4F5</td>\n",
       "      <td>0.000000</td>\n",
       "      <td>No</td>\n",
       "      <td>GEX</td>\n",
       "    </tr>\n",
       "    <tr>\n",
       "      <th>3</th>\n",
       "      <td>AL627309.1</td>\n",
       "      <td>0.007843</td>\n",
       "      <td>No</td>\n",
       "      <td>GEX</td>\n",
       "    </tr>\n",
       "    <tr>\n",
       "      <th>4</th>\n",
       "      <td>AL627309.3</td>\n",
       "      <td>0.000000</td>\n",
       "      <td>No</td>\n",
       "      <td>GEX</td>\n",
       "    </tr>\n",
       "    <tr>\n",
       "      <th>...</th>\n",
       "      <td>...</td>\n",
       "      <td>...</td>\n",
       "      <td>...</td>\n",
       "      <td>...</td>\n",
       "    </tr>\n",
       "    <tr>\n",
       "      <th>106051</th>\n",
       "      <td>chrX-155966975-155967181</td>\n",
       "      <td>0.135372</td>\n",
       "      <td>20NN</td>\n",
       "      <td>ATAC</td>\n",
       "    </tr>\n",
       "    <tr>\n",
       "      <th>106052</th>\n",
       "      <td>chrX-155997360-155997882</td>\n",
       "      <td>0.281769</td>\n",
       "      <td>20NN</td>\n",
       "      <td>ATAC</td>\n",
       "    </tr>\n",
       "    <tr>\n",
       "      <th>106053</th>\n",
       "      <td>chrX-156030027-156030149</td>\n",
       "      <td>0.020914</td>\n",
       "      <td>20NN</td>\n",
       "      <td>ATAC</td>\n",
       "    </tr>\n",
       "    <tr>\n",
       "      <th>106054</th>\n",
       "      <td>chrY-11332988-11334144</td>\n",
       "      <td>0.128893</td>\n",
       "      <td>20NN</td>\n",
       "      <td>ATAC</td>\n",
       "    </tr>\n",
       "    <tr>\n",
       "      <th>106055</th>\n",
       "      <td>chrY-56836663-56837005</td>\n",
       "      <td>0.080246</td>\n",
       "      <td>20NN</td>\n",
       "      <td>ATAC</td>\n",
       "    </tr>\n",
       "  </tbody>\n",
       "</table>\n",
       "<p>713285 rows × 4 columns</p>\n",
       "</div>"
      ],
      "text/plain": [
       "                              ID  Sparsity Smoothing Feature\n",
       "0                    MIR1302-2HG  0.000000        No     GEX\n",
       "1                        FAM138A  0.000000        No     GEX\n",
       "2                          OR4F5  0.000000        No     GEX\n",
       "3                     AL627309.1  0.007843        No     GEX\n",
       "4                     AL627309.3  0.000000        No     GEX\n",
       "...                          ...       ...       ...     ...\n",
       "106051  chrX-155966975-155967181  0.135372      20NN    ATAC\n",
       "106052  chrX-155997360-155997882  0.281769      20NN    ATAC\n",
       "106053  chrX-156030027-156030149  0.020914      20NN    ATAC\n",
       "106054    chrY-11332988-11334144  0.128893      20NN    ATAC\n",
       "106055    chrY-56836663-56837005  0.080246      20NN    ATAC\n",
       "\n",
       "[713285 rows x 4 columns]"
      ]
     },
     "execution_count": 8,
     "metadata": {},
     "output_type": "execute_result"
    }
   ],
   "source": [
    "spar_df"
   ]
  },
  {
   "cell_type": "code",
   "execution_count": 9,
   "metadata": {},
   "outputs": [],
   "source": [
    "spar_df.to_csv('sparsity_sum.csv', index=False)"
   ]
  },
  {
   "cell_type": "code",
   "execution_count": null,
   "metadata": {},
   "outputs": [],
   "source": []
  },
  {
   "cell_type": "markdown",
   "metadata": {},
   "source": [
    "### 2kb peaks-gene correlation"
   ]
  },
  {
   "cell_type": "code",
   "execution_count": 2,
   "metadata": {},
   "outputs": [],
   "source": [
    "input_mod1 = ad.read_h5ad('data/10XMultiome_GEX.PBMC.h5ad')\n",
    "input_mod1.X = input_mod1.layers['counts'].copy()\n",
    "input_mod2 = ad.read_h5ad('data/10XMultiome_ATAC.PBMC.h5ad')\n",
    "\n"
   ]
  },
  {
   "cell_type": "code",
   "execution_count": 3,
   "metadata": {},
   "outputs": [],
   "source": [
    "rna = ad.read_h5ad(\"data/rna.h5ad\")\n",
    "atac = ad.read_h5ad(\"data/atac.h5ad\")\n",
    "\n",
    "genes = scglue.genomics.Bed(rna.var.assign(name=rna.var_names).query(\"d_highly_variable\"))\n",
    "peaks = scglue.genomics.Bed(atac.var.assign(name=atac.var_names).query(\"d_highly_variable\"))\n",
    "tss = genes.strand_specific_start_site()\n",
    "promoters = tss.expand(2000, 0)\n",
    "\n",
    "pchic_graph = nx.read_graphml(\"data/pchic.graphml.gz\")\n",
    "pchic = pd.DataFrame(\n",
    "    biadjacency_matrix(pchic_graph, genes.index, peaks.index, weight=None, dtype=np.float32).toarray(),\n",
    "    index=genes.index, columns=peaks.index\n",
    ")\n"
   ]
  },
  {
   "cell_type": "code",
   "execution_count": 4,
   "metadata": {},
   "outputs": [],
   "source": [
    "genes = pchic.index.to_numpy()\n",
    "distance = 2000\n",
    "ref_tss_fn = 'utils/hg38_ref_TSS.txt'\n"
   ]
  },
  {
   "cell_type": "markdown",
   "metadata": {},
   "source": [
    "#### Non-smoothing"
   ]
  },
  {
   "cell_type": "code",
   "execution_count": 5,
   "metadata": {},
   "outputs": [
    {
     "name": "stdout",
     "output_type": "stream",
     "text": [
      "Add suffix to cell names in RNA and ATAC data...\n",
      "Clustering pseudocells...\n",
      "Representation mode engaged, clustering based on combined SiaNN embedding...\n"
     ]
    },
    {
     "name": "stderr",
     "output_type": "stream",
     "text": [
      "/mnt/hdd/chaozhong/pylib/site-packages/scanpy/preprocessing/_normalization.py:138: UserWarning: Revieved a view of an AnnData. Making a copy.\n",
      "  view_to_actual(adata)\n"
     ]
    },
    {
     "name": "stdout",
     "output_type": "stream",
     "text": [
      "Selecting peaks within 2000bp of the genes...\n",
      "Zeros are kept and spearman correlation calculation will be done.\n"
     ]
    }
   ],
   "source": [
    "#non-smoothing\n",
    "cis_score_df = pd.DataFrame(np.zeros((0,6)))\n",
    "cis_score_df.columns = ['genes','peaks','tss_dist','pRegion','Spearman.cor','Method']\n",
    "\n",
    "\n",
    "cis_score_tmp, rps, aps, label = cis_infer_util.cis_element_score(input_mod1, input_mod2, genes, \n",
    "                                         distance, ref_tss_fn, use_rep='SiaNN',\n",
    "                                         n_pseudocells=100, return_pseudo_bulk = True)\n",
    "cis_score_tmp['Method'] = 'SiaNN'\n",
    "cis_score_df = pd.concat([cis_score_df,cis_score_tmp])"
   ]
  },
  {
   "cell_type": "code",
   "execution_count": 6,
   "metadata": {},
   "outputs": [],
   "source": [
    "cis_score_df['is_pcHiC'] = False\n",
    "for gene in genes:\n",
    "    pcHiC_bool = cis_score_df.loc[cis_score_df['genes']==gene,'peaks'].isin(pchic.columns[pchic.loc[gene,:]==1])\n",
    "    cis_score_df.loc[cis_score_df['genes']==gene,'is_pcHiC'] = pcHiC_bool\n",
    "    \n",
    "cis_score_df.to_csv('correlation/spr.cor.pbmc.2k.NoSm.csv',index=False)\n",
    "    "
   ]
  },
  {
   "cell_type": "code",
   "execution_count": 7,
   "metadata": {},
   "outputs": [
    {
     "name": "stderr",
     "output_type": "stream",
     "text": [
      "Trying to set attribute `.obs` of view, copying.\n",
      "Trying to set attribute `.obs` of view, copying.\n"
     ]
    }
   ],
   "source": [
    "label = label[['pseudocell','cell_type']].value_counts()\n",
    "label = label.to_frame()\n",
    "label.reset_index(level=0, inplace=True)\n",
    "label.reset_index(level=0, inplace=True)\n",
    "label.index = label['pseudocell']\n",
    "label = label.loc[rps.obs.index.astype('float64'),:]\n",
    "rps.obs['cell_types'] = label['cell_type'].to_numpy()\n",
    "aps.obs['cell_types'] = label['cell_type'].to_numpy()"
   ]
  },
  {
   "cell_type": "code",
   "execution_count": 8,
   "metadata": {},
   "outputs": [],
   "source": [
    "pseudo_data = pd.concat([pd.DataFrame(rps.X),\n",
    "                         pd.DataFrame(aps.X)], axis=1)\n",
    "pseudo_data.columns = np.concatenate((rps.var_names.to_numpy(),\n",
    "                                      aps.var_names.to_numpy()))\n",
    "pseudo_data['cell_types'] = label['cell_type'].to_numpy()"
   ]
  },
  {
   "cell_type": "code",
   "execution_count": 10,
   "metadata": {},
   "outputs": [],
   "source": [
    "pseudo_data.to_csv('correlation/pseudo_data.noSm.csv')"
   ]
  },
  {
   "cell_type": "markdown",
   "metadata": {},
   "source": [
    "#### Smoothing"
   ]
  },
  {
   "cell_type": "code",
   "execution_count": 26,
   "metadata": {},
   "outputs": [],
   "source": [
    "num_nn = 20\n",
    "input_mod1_sm = ad.read_h5ad('data/10XMultiome_GEX.PBMC.smoothed.%sNN.h5ad'%(num_nn))\n",
    "input_mod1_sm.X = input_mod1_sm.layers['smoothed_counts'].copy()\n",
    "\n",
    "input_mod2_sm = ad.read_h5ad('data/10XMultiome_ATAC.PBMC.smoothed.%sNN.h5ad'%(num_nn))\n",
    "input_mod2_sm.X = input_mod2_sm.layers['smoothed_counts'].copy()\n"
   ]
  },
  {
   "cell_type": "code",
   "execution_count": 27,
   "metadata": {},
   "outputs": [
    {
     "name": "stdout",
     "output_type": "stream",
     "text": [
      "Add suffix to cell names in RNA and ATAC data...\n",
      "Clustering pseudocells...\n",
      "Representation mode engaged, clustering based on combined SiaNN embedding...\n"
     ]
    },
    {
     "name": "stderr",
     "output_type": "stream",
     "text": [
      "/mnt/hdd/chaozhong/pylib/site-packages/scanpy/preprocessing/_normalization.py:138: UserWarning: Revieved a view of an AnnData. Making a copy.\n",
      "  view_to_actual(adata)\n"
     ]
    },
    {
     "name": "stdout",
     "output_type": "stream",
     "text": [
      "Selecting peaks within 2000bp of the genes...\n",
      "Zeros are kept and spearman correlation calculation will be done.\n"
     ]
    }
   ],
   "source": [
    "#Smothing\n",
    "cis_score_df = pd.DataFrame(np.zeros((0,6)))\n",
    "cis_score_df.columns = ['genes','peaks','tss_dist','pRegion','Spearman.cor','Method']\n",
    "\n",
    "\n",
    "cis_score_tmp, rps, aps, label = cis_infer_util.cis_element_score(input_mod1_sm, input_mod2_sm, genes, \n",
    "                                         distance, ref_tss_fn, use_rep='SiaNN',\n",
    "                                         n_pseudocells=100, return_pseudo_bulk = True)\n",
    "cis_score_tmp['Method'] = '%sNN'%(num_nn)\n",
    "cis_score_df = pd.concat([cis_score_df,cis_score_tmp])"
   ]
  },
  {
   "cell_type": "code",
   "execution_count": 28,
   "metadata": {},
   "outputs": [],
   "source": [
    "cis_score_df['is_pcHiC'] = False\n",
    "for gene in genes:\n",
    "    pcHiC_bool = cis_score_df.loc[cis_score_df['genes']==gene,'peaks'].isin(pchic.columns[pchic.loc[gene,:]==1])\n",
    "    cis_score_df.loc[cis_score_df['genes']==gene,'is_pcHiC'] = pcHiC_bool\n",
    "    \n",
    "cis_score_df.to_csv('correlation/spr.cor.pbmc.2k.%sNN.csv'%(num_nn),index=False)\n",
    "    "
   ]
  },
  {
   "cell_type": "code",
   "execution_count": 29,
   "metadata": {},
   "outputs": [
    {
     "name": "stderr",
     "output_type": "stream",
     "text": [
      "Trying to set attribute `.obs` of view, copying.\n",
      "Trying to set attribute `.obs` of view, copying.\n"
     ]
    }
   ],
   "source": [
    "label = label[['pseudocell','cell_type']].value_counts()\n",
    "label = label.to_frame()\n",
    "label.reset_index(level=0, inplace=True)\n",
    "label.reset_index(level=0, inplace=True)\n",
    "label.index = label['pseudocell']\n",
    "label = label.loc[rps.obs.index.astype('float64'),:]\n",
    "rps.obs['cell_types'] = label['cell_type'].to_numpy()\n",
    "aps.obs['cell_types'] = label['cell_type'].to_numpy()"
   ]
  },
  {
   "cell_type": "code",
   "execution_count": 30,
   "metadata": {},
   "outputs": [],
   "source": [
    "pseudo_data = pd.concat([pd.DataFrame(rps.X),\n",
    "                         pd.DataFrame(aps.X)], axis=1)\n",
    "pseudo_data.columns = np.concatenate((rps.var_names.to_numpy(),\n",
    "                                      aps.var_names.to_numpy()))\n",
    "pseudo_data['cell_types'] = label['cell_type'].to_numpy()\n",
    "\n",
    "pseudo_data.to_csv('correlation/pseudo_data.%sNN.csv'%(num_nn))"
   ]
  },
  {
   "cell_type": "code",
   "execution_count": null,
   "metadata": {},
   "outputs": [],
   "source": []
  },
  {
   "cell_type": "markdown",
   "metadata": {},
   "source": [
    "#### True Pair"
   ]
  },
  {
   "cell_type": "code",
   "execution_count": 20,
   "metadata": {},
   "outputs": [],
   "source": [
    "sc.pp.normalize_total(input_mod1)\n",
    "sc.pp.log1p(input_mod1)\n",
    "sc.pp.pca(input_mod1, n_comps=30)\n",
    "sc.pp.neighbors(input_mod1, n_neighbors=10)\n",
    "sc.tl.umap(input_mod1)\n",
    "input_mod1.X = input_mod1.layers['counts'].copy()"
   ]
  },
  {
   "cell_type": "code",
   "execution_count": 21,
   "metadata": {},
   "outputs": [
    {
     "name": "stdout",
     "output_type": "stream",
     "text": [
      "Add suffix to cell names in RNA and ATAC data...\n",
      "Clustering pseudocells...\n",
      "Paired mode engaged, clustering based on RNA dataset...\n"
     ]
    },
    {
     "name": "stderr",
     "output_type": "stream",
     "text": [
      "Trying to set attribute `.obs` of view, copying.\n",
      "Trying to set attribute `.obs` of view, copying.\n",
      "/mnt/hdd/chaozhong/pylib/site-packages/scanpy/preprocessing/_normalization.py:138: UserWarning: Revieved a view of an AnnData. Making a copy.\n",
      "  view_to_actual(adata)\n"
     ]
    },
    {
     "name": "stdout",
     "output_type": "stream",
     "text": [
      "Selecting peaks within 2000bp of the genes...\n",
      "Zeros are kept and spearman correlation calculation will be done.\n"
     ]
    }
   ],
   "source": [
    "#True pair\n",
    "cis_score_df = pd.DataFrame(np.zeros((0,6)))\n",
    "cis_score_df.columns = ['genes','peaks','tss_dist','pRegion','Spearman.cor','Method']\n",
    "\n",
    "\n",
    "cis_score_paired = cis_infer_util.cis_element_score(input_mod1, input_mod2, genes, \n",
    "                                             distance, ref_tss_fn, use_rep = 'paired',\n",
    "                                             n_pseudocells=100, return_pseudo_bulk = False)\n",
    "cis_score_paired['Method'] = 'True_pair'\n",
    "cis_score_df = pd.concat([cis_score_df,cis_score_paired])"
   ]
  },
  {
   "cell_type": "code",
   "execution_count": 22,
   "metadata": {},
   "outputs": [],
   "source": [
    "cis_score_df['is_pcHiC'] = False\n",
    "for gene in genes:\n",
    "    pcHiC_bool = cis_score_df.loc[cis_score_df['genes']==gene,'peaks'].isin(pchic.columns[pchic.loc[gene,:]==1])\n",
    "    cis_score_df.loc[cis_score_df['genes']==gene,'is_pcHiC'] = pcHiC_bool\n",
    "    \n",
    "cis_score_df.to_csv('correlation/spr.cor.pbmc.2k.Pair.csv',index=False)\n",
    "    "
   ]
  },
  {
   "cell_type": "code",
   "execution_count": null,
   "metadata": {},
   "outputs": [],
   "source": []
  },
  {
   "cell_type": "code",
   "execution_count": null,
   "metadata": {},
   "outputs": [],
   "source": []
  },
  {
   "cell_type": "code",
   "execution_count": null,
   "metadata": {},
   "outputs": [],
   "source": []
  },
  {
   "cell_type": "code",
   "execution_count": null,
   "metadata": {},
   "outputs": [],
   "source": []
  },
  {
   "cell_type": "code",
   "execution_count": null,
   "metadata": {},
   "outputs": [],
   "source": []
  },
  {
   "cell_type": "code",
   "execution_count": null,
   "metadata": {},
   "outputs": [],
   "source": []
  },
  {
   "cell_type": "code",
   "execution_count": null,
   "metadata": {},
   "outputs": [],
   "source": []
  }
 ],
 "metadata": {
  "kernelspec": {
   "display_name": "Python 3",
   "language": "python",
   "name": "python3"
  },
  "language_info": {
   "codemirror_mode": {
    "name": "ipython",
    "version": 3
   },
   "file_extension": ".py",
   "mimetype": "text/x-python",
   "name": "python",
   "nbconvert_exporter": "python",
   "pygments_lexer": "ipython3",
   "version": "3.6.13"
  }
 },
 "nbformat": 4,
 "nbformat_minor": 2
}
