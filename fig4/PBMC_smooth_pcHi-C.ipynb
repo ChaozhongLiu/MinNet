{
 "cells": [
  {
   "cell_type": "code",
   "execution_count": 1,
   "metadata": {},
   "outputs": [
    {
     "name": "stderr",
     "output_type": "stream",
     "text": [
      "/usr/local/lib/python3.6/dist-packages/dask/config.py:168: YAMLLoadWarning: calling yaml.load() without Loader=... is deprecated, as the default Loader is unsafe. Please read https://msg.pyyaml.org/load for full details.\n",
      "  data = yaml.load(f.read()) or {}\n",
      "/usr/local/lib/python3.6/dist-packages/statsmodels/tools/_testing.py:19: FutureWarning: pandas.util.testing is deprecated. Use the functions in the public API at pandas.testing instead.\n",
      "  import pandas.util.testing as tm\n"
     ]
    }
   ],
   "source": [
    "import functools\n",
    "import operator\n",
    "import os\n",
    "import sys\n",
    "\n",
    "import anndata as ad\n",
    "import networkx as nx\n",
    "import matplotlib.pyplot as plt\n",
    "import numpy as np\n",
    "import pandas as pd\n",
    "import scipy as sp\n",
    "import scanpy as sc\n",
    "import scipy.stats\n",
    "import seaborn as sns\n",
    "import sklearn.cluster\n",
    "import torch\n",
    "\n",
    "import sklearn.linear_model\n",
    "import sklearn.preprocessing\n",
    "import sklearn.metrics\n",
    "from matplotlib import rcParams\n",
    "from networkx.algorithms.bipartite import biadjacency_matrix\n",
    "\n",
    "import scglue\n",
    "import matplotlib.pyplot as plt\n",
    "\n",
    "os.environ[\"CUDA_DEVICE_ORDER\"] = \"PCI_BUS_ID\"\n",
    "os.environ[\"CUDA_VISIBLE_DEVICES\"] = '0'\n",
    "\n",
    "from sklearn.neighbors import NearestNeighbors\n",
    "from sklearn.preprocessing import normalize\n",
    "from sklearn.metrics import pairwise_distances\n",
    "\n",
    "\n",
    "from utils.test_util import test_data_multiome, Siamese_Test_multiome\n",
    "from utils.feature_util import feature_selection_multiome\n",
    "import utils.cis_infer_util as cis_infer_util\n"
   ]
  },
  {
   "cell_type": "code",
   "execution_count": 2,
   "metadata": {},
   "outputs": [],
   "source": [
    "rna = ad.read_h5ad(\"data/rna.h5ad\")\n",
    "atac = ad.read_h5ad(\"data/atac.h5ad\")\n",
    "\n",
    "genes = scglue.genomics.Bed(rna.var.assign(name=rna.var_names).query(\"d_highly_variable\"))\n",
    "peaks = scglue.genomics.Bed(atac.var.assign(name=atac.var_names).query(\"d_highly_variable\"))\n",
    "tss = genes.strand_specific_start_site()\n",
    "promoters = tss.expand(2000, 0)\n",
    "\n",
    "pchic_graph = nx.read_graphml(\"data/pchic.graphml.gz\")\n",
    "pchic = pd.DataFrame(\n",
    "    biadjacency_matrix(pchic_graph, genes.index, peaks.index, weight=None, dtype=np.float32).toarray(),\n",
    "    index=genes.index, columns=peaks.index\n",
    ")\n"
   ]
  },
  {
   "cell_type": "code",
   "execution_count": 3,
   "metadata": {},
   "outputs": [],
   "source": [
    "genes = pchic.index.to_numpy()\n",
    "distance = 150000\n",
    "ref_tss_fn = 'utils/hg38_ref_TSS.txt'\n"
   ]
  },
  {
   "cell_type": "markdown",
   "metadata": {},
   "source": [
    "#### Non Smoothing"
   ]
  },
  {
   "cell_type": "code",
   "execution_count": 4,
   "metadata": {},
   "outputs": [],
   "source": [
    "input_mod1 = ad.read_h5ad('data/10XMultiome_GEX.PBMC.h5ad')\n",
    "input_mod1.X = input_mod1.layers['counts'].copy()\n",
    "input_mod2 = ad.read_h5ad('data/10XMultiome_ATAC.PBMC.h5ad')\n",
    "\n"
   ]
  },
  {
   "cell_type": "code",
   "execution_count": 5,
   "metadata": {},
   "outputs": [
    {
     "name": "stdout",
     "output_type": "stream",
     "text": [
      "Add suffix to cell names in RNA and ATAC data...\n",
      "Clustering pseudocells...\n",
      "Representation mode engaged, clustering based on combined SiaNN embedding...\n"
     ]
    },
    {
     "name": "stderr",
     "output_type": "stream",
     "text": [
      "/mnt/hdd/chaozhong/pylib/site-packages/scanpy/preprocessing/_normalization.py:138: UserWarning: Revieved a view of an AnnData. Making a copy.\n",
      "  view_to_actual(adata)\n"
     ]
    },
    {
     "name": "stdout",
     "output_type": "stream",
     "text": [
      "Selecting peaks within 150000bp of the genes...\n",
      "Zeros are kept and spearman correlation calculation will be done.\n"
     ]
    },
    {
     "name": "stderr",
     "output_type": "stream",
     "text": [
      "/home/chaozhong/.local/lib/python3.6/site-packages/scglue/num.py:152: RuntimeWarning: invalid value encountered in true_divide\n",
      "  pcc = cov_mat(X, Y) / X_std.T / Y_std\n"
     ]
    }
   ],
   "source": [
    "#non-smoothing\n",
    "cis_score_df = pd.DataFrame(np.zeros((0,6)))\n",
    "cis_score_df.columns = ['genes','peaks','tss_dist','pRegion','Spearman.cor','Method']\n",
    "\n",
    "\n",
    "cis_score_tmp = cis_infer_util.cis_element_score(input_mod1, input_mod2, genes, \n",
    "                                         distance, ref_tss_fn, use_rep='SiaNN',\n",
    "                                         n_pseudocells=100, return_pseudo_bulk = False)\n",
    "cis_score_tmp['Method'] = 'SiaNN'\n",
    "cis_score_df = pd.concat([cis_score_df,cis_score_tmp])"
   ]
  },
  {
   "cell_type": "code",
   "execution_count": 6,
   "metadata": {},
   "outputs": [],
   "source": [
    "cis_score_df['is_pcHiC'] = False\n",
    "for gene in genes:\n",
    "    pcHiC_bool = cis_score_df.loc[cis_score_df['genes']==gene,'peaks'].isin(pchic.columns[pchic.loc[gene,:]==1])\n",
    "    cis_score_df.loc[cis_score_df['genes']==gene,'is_pcHiC'] = pcHiC_bool\n",
    "    \n",
    "cis_score_df.to_csv('correlation/spr.cor.pbmc.150k.NoSm.csv',index=False)\n",
    "    "
   ]
  },
  {
   "cell_type": "markdown",
   "metadata": {},
   "source": [
    "#### True Pair"
   ]
  },
  {
   "cell_type": "code",
   "execution_count": 7,
   "metadata": {},
   "outputs": [],
   "source": [
    "sc.pp.normalize_total(input_mod1)\n",
    "sc.pp.log1p(input_mod1)\n",
    "sc.pp.pca(input_mod1, n_comps=30)\n",
    "sc.pp.neighbors(input_mod1, n_neighbors=10)\n",
    "sc.tl.umap(input_mod1)\n",
    "input_mod1.X = input_mod1.layers['counts'].copy()"
   ]
  },
  {
   "cell_type": "code",
   "execution_count": 8,
   "metadata": {},
   "outputs": [
    {
     "name": "stdout",
     "output_type": "stream",
     "text": [
      "Add suffix to cell names in RNA and ATAC data...\n",
      "Clustering pseudocells...\n",
      "Paired mode engaged, clustering based on RNA dataset...\n"
     ]
    },
    {
     "name": "stderr",
     "output_type": "stream",
     "text": [
      "Trying to set attribute `.obs` of view, copying.\n",
      "Trying to set attribute `.obs` of view, copying.\n",
      "/mnt/hdd/chaozhong/pylib/site-packages/scanpy/preprocessing/_normalization.py:138: UserWarning: Revieved a view of an AnnData. Making a copy.\n",
      "  view_to_actual(adata)\n"
     ]
    },
    {
     "name": "stdout",
     "output_type": "stream",
     "text": [
      "Selecting peaks within 150000bp of the genes...\n",
      "Zeros are kept and spearman correlation calculation will be done.\n"
     ]
    },
    {
     "name": "stderr",
     "output_type": "stream",
     "text": [
      "/home/chaozhong/.local/lib/python3.6/site-packages/scglue/num.py:152: RuntimeWarning: invalid value encountered in true_divide\n",
      "  pcc = cov_mat(X, Y) / X_std.T / Y_std\n"
     ]
    }
   ],
   "source": [
    "#True pair\n",
    "cis_score_df = pd.DataFrame(np.zeros((0,6)))\n",
    "cis_score_df.columns = ['genes','peaks','tss_dist','pRegion','Spearman.cor','Method']\n",
    "\n",
    "\n",
    "cis_score_paired = cis_infer_util.cis_element_score(input_mod1, input_mod2, genes, \n",
    "                                             distance, ref_tss_fn, use_rep = 'paired',\n",
    "                                             n_pseudocells=100, return_pseudo_bulk = False)\n",
    "cis_score_paired['Method'] = 'True_pair'\n",
    "cis_score_df = pd.concat([cis_score_df,cis_score_paired])"
   ]
  },
  {
   "cell_type": "code",
   "execution_count": 9,
   "metadata": {},
   "outputs": [],
   "source": [
    "cis_score_df['is_pcHiC'] = False\n",
    "for gene in genes:\n",
    "    pcHiC_bool = cis_score_df.loc[cis_score_df['genes']==gene,'peaks'].isin(pchic.columns[pchic.loc[gene,:]==1])\n",
    "    cis_score_df.loc[cis_score_df['genes']==gene,'is_pcHiC'] = pcHiC_bool\n",
    "    \n",
    "cis_score_df.to_csv('correlation/spr.cor.pbmc.150k.Pair.csv',index=False)\n",
    "    "
   ]
  },
  {
   "cell_type": "markdown",
   "metadata": {},
   "source": [
    "#### Smoothing"
   ]
  },
  {
   "cell_type": "code",
   "execution_count": 7,
   "metadata": {},
   "outputs": [],
   "source": [
    "num_nn = 20\n",
    "input_mod1_sm = ad.read_h5ad('data/10XMultiome_GEX.PBMC.smoothed.%sNN.h5ad'%(num_nn))\n",
    "input_mod1_sm.X = input_mod1_sm.layers['smoothed_counts'].copy()\n",
    "\n",
    "input_mod2_sm = ad.read_h5ad('data/10XMultiome_ATAC.PBMC.smoothed.%sNN.h5ad'%(num_nn))\n",
    "input_mod2_sm.X = input_mod2_sm.layers['smoothed_counts'].copy()\n"
   ]
  },
  {
   "cell_type": "code",
   "execution_count": 8,
   "metadata": {},
   "outputs": [
    {
     "name": "stdout",
     "output_type": "stream",
     "text": [
      "Add suffix to cell names in RNA and ATAC data...\n",
      "Clustering pseudocells...\n",
      "Representation mode engaged, clustering based on combined SiaNN embedding...\n"
     ]
    },
    {
     "name": "stderr",
     "output_type": "stream",
     "text": [
      "/mnt/hdd/chaozhong/pylib/site-packages/scanpy/preprocessing/_normalization.py:138: UserWarning: Revieved a view of an AnnData. Making a copy.\n",
      "  view_to_actual(adata)\n"
     ]
    },
    {
     "name": "stdout",
     "output_type": "stream",
     "text": [
      "Selecting peaks within 150000bp of the genes...\n",
      "Zeros are kept and spearman correlation calculation will be done.\n"
     ]
    },
    {
     "name": "stderr",
     "output_type": "stream",
     "text": [
      "/home/chaozhong/.local/lib/python3.6/site-packages/scglue/num.py:152: RuntimeWarning: invalid value encountered in true_divide\n",
      "  pcc = cov_mat(X, Y) / X_std.T / Y_std\n"
     ]
    }
   ],
   "source": [
    "#Smothing\n",
    "cis_score_df = pd.DataFrame(np.zeros((0,6)))\n",
    "cis_score_df.columns = ['genes','peaks','tss_dist','pRegion','Spearman.cor','Method']\n",
    "\n",
    "\n",
    "cis_score_tmp = cis_infer_util.cis_element_score(input_mod1_sm, input_mod2_sm, genes, \n",
    "                                         distance, ref_tss_fn, use_rep='SiaNN',\n",
    "                                         n_pseudocells=100, return_pseudo_bulk = False)\n",
    "cis_score_tmp['Method'] = '%sNN'%(num_nn)\n",
    "cis_score_df = pd.concat([cis_score_df,cis_score_tmp])"
   ]
  },
  {
   "cell_type": "code",
   "execution_count": 9,
   "metadata": {},
   "outputs": [],
   "source": [
    "cis_score_df['is_pcHiC'] = False\n",
    "for gene in genes:\n",
    "    pcHiC_bool = cis_score_df.loc[cis_score_df['genes']==gene,'peaks'].isin(pchic.columns[pchic.loc[gene,:]==1])\n",
    "    cis_score_df.loc[cis_score_df['genes']==gene,'is_pcHiC'] = pcHiC_bool\n",
    "    \n",
    "cis_score_df.to_csv('correlation/spr.cor.pbmc.150k.%sNN.csv'%(num_nn),index=False)\n",
    "    "
   ]
  },
  {
   "cell_type": "code",
   "execution_count": null,
   "metadata": {},
   "outputs": [],
   "source": []
  },
  {
   "cell_type": "code",
   "execution_count": null,
   "metadata": {},
   "outputs": [],
   "source": []
  }
 ],
 "metadata": {
  "kernelspec": {
   "display_name": "Python 3",
   "language": "python",
   "name": "python3"
  },
  "language_info": {
   "codemirror_mode": {
    "name": "ipython",
    "version": 3
   },
   "file_extension": ".py",
   "mimetype": "text/x-python",
   "name": "python",
   "nbconvert_exporter": "python",
   "pygments_lexer": "ipython3",
   "version": "3.6.13"
  }
 },
 "nbformat": 4,
 "nbformat_minor": 2
}
