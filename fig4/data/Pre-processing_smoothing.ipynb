{
 "cells": [
  {
   "cell_type": "markdown",
   "metadata": {},
   "source": [
    "This is the code to generate Multi-omics data for smoothing purpose."
   ]
  },
  {
   "cell_type": "code",
   "execution_count": 1,
   "metadata": {},
   "outputs": [
    {
     "name": "stderr",
     "output_type": "stream",
     "text": [
      "/usr/local/lib/python3.6/dist-packages/dask/config.py:168: YAMLLoadWarning: calling yaml.load() without Loader=... is deprecated, as the default Loader is unsafe. Please read https://msg.pyyaml.org/load for full details.\n",
      "  data = yaml.load(f.read()) or {}\n",
      "/usr/local/lib/python3.6/dist-packages/statsmodels/tools/_testing.py:19: FutureWarning: pandas.util.testing is deprecated. Use the functions in the public API at pandas.testing instead.\n",
      "  import pandas.util.testing as tm\n"
     ]
    }
   ],
   "source": [
    "import logging\n",
    "import anndata as ad\n",
    "import numpy as np\n",
    "import scipy as sp\n",
    "import pandas as pd\n",
    "import seaborn as sns\n",
    "import scanpy as sc\n",
    "import sys\n",
    "import torch\n",
    "import os\n",
    "import matplotlib.pyplot as plt\n",
    "\n",
    "from sklearn.neighbors import NearestNeighbors\n",
    "from sklearn.preprocessing import normalize\n",
    "from sklearn.metrics import pairwise_distances\n"
   ]
  },
  {
   "cell_type": "code",
   "execution_count": 2,
   "metadata": {},
   "outputs": [
    {
     "name": "stderr",
     "output_type": "stream",
     "text": [
      "Trying to set attribute `.obs` of view, copying.\n",
      "Trying to set attribute `.obs` of view, copying.\n"
     ]
    }
   ],
   "source": [
    "input_mod1 = ad.read_h5ad('../../fig2/data/PBMC_10X_GEX.h5ad')\n",
    "input_mod2 = ad.read_h5ad('../../fig2/data/PBMC_10X_ATAC.peak.h5ad')\n",
    "\n",
    "used_cts = {\n",
    "    \"CD4 Naive\", \"CD4 TCM\", \"CD4 TEM\", \"CD8 Naive\", \"CD8 TEM_1\", \"CD8 TEM_2\",\n",
    "    \"CD14 Mono\", \"CD16 Mono\", \"Memory B\", \"Naive B\"\n",
    "}  # To match cell types covered in PC Hi-C\n",
    "\n",
    "input_mod1 = input_mod1[[item in used_cts for item in input_mod1.obs[\"seurat_annotations\"]],:]\n",
    "input_mod2 = input_mod2[[item in used_cts for item in input_mod2.obs[\"seurat_annotations\"]],:]\n",
    "\n",
    "input_mod1.obs['cell_type'] = input_mod1.obs['seurat_annotations'].copy()\n",
    "input_mod2.obs['cell_type'] = input_mod2.obs['seurat_annotations'].copy()\n"
   ]
  },
  {
   "cell_type": "code",
   "execution_count": 7,
   "metadata": {},
   "outputs": [],
   "source": [
    "merge = pd.read_csv('../embed/SiaNN_embed.pbmc.txt')\n",
    "out_x = merge.iloc[0:input_mod1.n_obs,1:].to_numpy().astype('float32')\n",
    "out_x = out_x.copy(order='C')\n",
    "out_y = merge.iloc[input_mod1.n_obs:,1:].to_numpy().astype('float32')\n",
    "out_y = out_y.copy(order='C')\n"
   ]
  },
  {
   "cell_type": "code",
   "execution_count": 8,
   "metadata": {},
   "outputs": [],
   "source": [
    "input_mod1.obsm['SiaNN'] = out_x\n",
    "input_mod2.obsm['SiaNN'] = out_y"
   ]
  },
  {
   "cell_type": "code",
   "execution_count": 11,
   "metadata": {},
   "outputs": [],
   "source": [
    "input_mod1.write_h5ad('10XMultiome_GEX.PBMC.h5ad')\n",
    "input_mod2.write_h5ad('10XMultiome_ATAC.PBMC.h5ad')\n"
   ]
  },
  {
   "cell_type": "code",
   "execution_count": null,
   "metadata": {},
   "outputs": [],
   "source": []
  },
  {
   "cell_type": "code",
   "execution_count": null,
   "metadata": {},
   "outputs": [],
   "source": []
  },
  {
   "cell_type": "code",
   "execution_count": null,
   "metadata": {},
   "outputs": [],
   "source": []
  }
 ],
 "metadata": {
  "kernelspec": {
   "display_name": "Python 3",
   "language": "python",
   "name": "python3"
  },
  "language_info": {
   "codemirror_mode": {
    "name": "ipython",
    "version": 3
   },
   "file_extension": ".py",
   "mimetype": "text/x-python",
   "name": "python",
   "nbconvert_exporter": "python",
   "pygments_lexer": "ipython3",
   "version": "3.6.13"
  }
 },
 "nbformat": 4,
 "nbformat_minor": 2
}
