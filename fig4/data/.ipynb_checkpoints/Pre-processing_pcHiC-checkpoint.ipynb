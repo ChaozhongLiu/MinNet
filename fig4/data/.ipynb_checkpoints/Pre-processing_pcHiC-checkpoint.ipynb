{
 "cells": [
  {
   "cell_type": "markdown",
   "metadata": {},
   "source": [
    "This is the processing code to generate Multi-omics data and pcHi-C evidence graph"
   ]
  },
  {
   "cell_type": "code",
   "execution_count": 1,
   "metadata": {},
   "outputs": [],
   "source": [
    "import functools\n",
    "import itertools\n",
    "import os\n",
    "\n",
    "import anndata\n",
    "import networkx as nx\n",
    "import numpy as np\n",
    "import pandas as pd\n",
    "import scanpy as sc\n",
    "from matplotlib import rcParams\n",
    "from networkx.algorithms.bipartite import biadjacency_matrix\n",
    "\n",
    "import scglue"
   ]
  },
  {
   "cell_type": "markdown",
   "metadata": {},
   "source": [
    "#### Read Data and filtering cell types"
   ]
  },
  {
   "cell_type": "markdown",
   "metadata": {},
   "source": [
    "Cell type filtering was done here to keep consistent with pcHi-C data."
   ]
  },
  {
   "cell_type": "code",
   "execution_count": 2,
   "metadata": {},
   "outputs": [
    {
     "data": {
      "text/plain": [
       "AnnData object with n_obs × n_vars = 10412 × 36601\n",
       "    obs: 'orig.ident', 'nCount_RNA', 'nFeature_RNA', 'percent.mt', 'seurat_annotations', 'RNA_snn_res.0.4', 'seurat_clusters', 'RNA_snn_res.0.6', 'RNA_snn_res.0.8', 'RNA_snn_res.1', 'RNA_snn_res.0.9'\n",
       "    var: 'mean', 'std'\n",
       "    layers: 'counts'"
      ]
     },
     "execution_count": 2,
     "metadata": {},
     "output_type": "execute_result"
    }
   ],
   "source": [
    "rna = anndata.read_h5ad(\"../../fig2/PBMC_data/data/PBMC_10X_GEX.h5ad\")\n",
    "rna.X = rna.layers['counts'].copy()\n",
    "rna\n"
   ]
  },
  {
   "cell_type": "code",
   "execution_count": 3,
   "metadata": {},
   "outputs": [
    {
     "data": {
      "text/plain": [
       "AnnData object with n_obs × n_vars = 10412 × 106056\n",
       "    obs: 'orig.ident', 'nCount_ATAC', 'nFeature_ATAC', 'seurat_annotations', 'nCount_ACTIVITY', 'nFeature_ACTIVITY', 'ATAC_snn_res.0.8', 'seurat_clusters'"
      ]
     },
     "execution_count": 3,
     "metadata": {},
     "output_type": "execute_result"
    }
   ],
   "source": [
    "atac = anndata.read_h5ad(\"../../fig2/PBMC_data/data/PBMC_10X_ATAC.peak.h5ad\")\n",
    "atac\n"
   ]
  },
  {
   "cell_type": "code",
   "execution_count": 4,
   "metadata": {},
   "outputs": [
    {
     "data": {
      "text/plain": [
       "True"
      ]
     },
     "execution_count": 4,
     "metadata": {},
     "output_type": "execute_result"
    }
   ],
   "source": [
    "np.all(atac.obs_names == rna.obs_names)"
   ]
  },
  {
   "cell_type": "code",
   "execution_count": 5,
   "metadata": {},
   "outputs": [
    {
     "data": {
      "text/plain": [
       "Index(['CD4 Naive', 'CD4 TCM', 'CD4 TEM', 'CD8 Naive', 'CD8 TEM_1',\n",
       "       'CD8 TEM_2', 'CD14 Mono', 'CD16 Mono', 'HSPC', 'Intermediate B', 'MAIT',\n",
       "       'Memory B', 'NK', 'Naive B', 'Plasma', 'Treg', 'cDC', 'gdT', 'pDC'],\n",
       "      dtype='object')"
      ]
     },
     "execution_count": 5,
     "metadata": {},
     "output_type": "execute_result"
    }
   ],
   "source": [
    "rna.obs[\"seurat_annotations\"].cat.categories"
   ]
  },
  {
   "cell_type": "code",
   "execution_count": 6,
   "metadata": {},
   "outputs": [],
   "source": [
    "used_cts = {\n",
    "    \"CD4 Naive\", \"CD4 TCM\", \"CD4 TEM\", \"CD8 Naive\", \"CD8 TEM_1\", \"CD8 TEM_2\",\n",
    "    \"CD14 Mono\", \"CD16 Mono\", \"Memory B\", \"Naive B\"\n",
    "}  # To match cell types covered in PC Hi-C\n",
    "used_chroms = {f\"chr{x}\" for x in range(1, 23)}.union({\"chrX\"})"
   ]
  },
  {
   "cell_type": "markdown",
   "metadata": {},
   "source": [
    "#### Selecting features in known chromatin"
   ]
  },
  {
   "cell_type": "code",
   "execution_count": 7,
   "metadata": {},
   "outputs": [
    {
     "data": {
      "text/plain": [
       "True"
      ]
     },
     "execution_count": 7,
     "metadata": {},
     "output_type": "execute_result"
    }
   ],
   "source": [
    "ref_tss = pd.read_csv('../utils/hg38_ref_TSS.txt', sep='\\t')\n",
    "ref_tss.index = ref_tss['gene_name']\n",
    "ref_tss = ref_tss.drop_duplicates(subset=['symbol'], keep='first')\n",
    "non_exist_gene = list(set(rna.var.index.tolist()) - set(ref_tss.index.tolist()))\n",
    "non_df = pd.DataFrame(np.zeros((len(non_exist_gene),11)))\n",
    "non_df.index = non_exist_gene\n",
    "non_df.columns = ref_tss.columns\n",
    "#print(non_df.shape)\n",
    "#print(ref_tss.shape)\n",
    "ref_tss = pd.concat([ref_tss, non_df])\n",
    "ref_tss = ref_tss.loc[rna.var.index,:]\n",
    "#print(ref_tss.shape)\n",
    "np.all(ref_tss.index.to_numpy() == rna.var.index.to_numpy())"
   ]
  },
  {
   "cell_type": "code",
   "execution_count": 8,
   "metadata": {},
   "outputs": [],
   "source": [
    "rna.var['chrom'] = ref_tss['seqnames'].to_numpy().astype(str)\n",
    "rna.var['chromStart'] = ref_tss['start'].to_numpy()\n",
    "rna.var['chromEnd'] = ref_tss['end'].to_numpy()\n",
    "rna.var['strand'] = ref_tss['strand'].to_numpy()\n"
   ]
  },
  {
   "cell_type": "code",
   "execution_count": 9,
   "metadata": {},
   "outputs": [
    {
     "name": "stderr",
     "output_type": "stream",
     "text": [
      "Trying to set attribute `.var` of view, copying.\n"
     ]
    },
    {
     "data": {
      "text/plain": [
       "AnnData object with n_obs × n_vars = 8798 × 16376\n",
       "    obs: 'orig.ident', 'nCount_RNA', 'nFeature_RNA', 'percent.mt', 'seurat_annotations', 'RNA_snn_res.0.4', 'seurat_clusters', 'RNA_snn_res.0.6', 'RNA_snn_res.0.8', 'RNA_snn_res.1', 'RNA_snn_res.0.9'\n",
       "    var: 'mean', 'std', 'chrom', 'chromStart', 'chromEnd', 'strand', 'n_counts'\n",
       "    layers: 'counts'"
      ]
     },
     "execution_count": 9,
     "metadata": {},
     "output_type": "execute_result"
    }
   ],
   "source": [
    "rna = rna[\n",
    "    [item in used_cts for item in rna.obs[\"seurat_annotations\"]],\n",
    "    [item in used_chroms for item in rna.var[\"chrom\"]]\n",
    "]\n",
    "sc.pp.filter_genes(rna, min_counts=1)\n",
    "rna.obs_names += \"-RNA\"\n",
    "rna"
   ]
  },
  {
   "cell_type": "code",
   "execution_count": 10,
   "metadata": {},
   "outputs": [],
   "source": [
    "atac.var['chrom'] = atac.var.index.str.split('-').str[0]\n",
    "atac.var['chromStart'] = atac.var.index.str.split('-').str[1]\n",
    "atac.var['chromEnd'] = atac.var.index.str.split('-').str[2]\n"
   ]
  },
  {
   "cell_type": "code",
   "execution_count": 11,
   "metadata": {},
   "outputs": [
    {
     "data": {
      "text/plain": [
       "AnnData object with n_obs × n_vars = 10412 × 106056\n",
       "    obs: 'orig.ident', 'nCount_ATAC', 'nFeature_ATAC', 'seurat_annotations', 'nCount_ACTIVITY', 'nFeature_ACTIVITY', 'ATAC_snn_res.0.8', 'seurat_clusters'\n",
       "    var: 'chrom', 'chromStart', 'chromEnd'"
      ]
     },
     "execution_count": 11,
     "metadata": {},
     "output_type": "execute_result"
    }
   ],
   "source": [
    "atac"
   ]
  },
  {
   "cell_type": "code",
   "execution_count": 12,
   "metadata": {},
   "outputs": [
    {
     "name": "stderr",
     "output_type": "stream",
     "text": [
      "Trying to set attribute `.var` of view, copying.\n"
     ]
    },
    {
     "data": {
      "text/plain": [
       "AnnData object with n_obs × n_vars = 8798 × 106052\n",
       "    obs: 'orig.ident', 'nCount_ATAC', 'nFeature_ATAC', 'seurat_annotations', 'nCount_ACTIVITY', 'nFeature_ACTIVITY', 'ATAC_snn_res.0.8', 'seurat_clusters'\n",
       "    var: 'chrom', 'chromStart', 'chromEnd', 'n_counts'"
      ]
     },
     "execution_count": 12,
     "metadata": {},
     "output_type": "execute_result"
    }
   ],
   "source": [
    "atac = atac[\n",
    "    [item in used_cts for item in atac.obs[\"seurat_annotations\"]],\n",
    "    [item in used_chroms for item in atac.var[\"chrom\"]]\n",
    "]\n",
    "sc.pp.filter_genes(atac, min_counts=1)\n",
    "atac.obs_names += \"-ATAC\"\n",
    "atac"
   ]
  },
  {
   "cell_type": "code",
   "execution_count": 13,
   "metadata": {},
   "outputs": [
    {
     "data": {
      "text/plain": [
       "True"
      ]
     },
     "execution_count": 13,
     "metadata": {},
     "output_type": "execute_result"
    }
   ],
   "source": [
    "np.all(atac.obs_names.str.split('-').str[0] == rna.obs_names.str.split('-').str[0])"
   ]
  },
  {
   "cell_type": "code",
   "execution_count": 14,
   "metadata": {},
   "outputs": [],
   "source": [
    "genes = scglue.genomics.Bed(rna.var.assign(name=rna.var_names))\n",
    "peaks = scglue.genomics.Bed(atac.var.assign(name=atac.var_names))\n",
    "tss = genes.strand_specific_start_site()\n",
    "promoters = tss.expand(2000, 0)"
   ]
  },
  {
   "cell_type": "code",
   "execution_count": 15,
   "metadata": {},
   "outputs": [],
   "source": [
    "rna.X = rna.layers[\"counts\"].copy()\n",
    "sc.pp.highly_variable_genes(rna, n_top_genes=6000,flavor=\"seurat_v3\")\n",
    "sc.pp.normalize_total(rna)\n",
    "sc.pp.log1p(rna)\n",
    "sc.pp.scale(rna, max_value=10)\n",
    "sc.tl.pca(rna, n_comps=100, use_highly_variable=True, svd_solver=\"auto\")\n",
    "sc.pp.neighbors(rna, n_pcs=100)\n",
    "sc.tl.umap(rna)"
   ]
  },
  {
   "cell_type": "code",
   "execution_count": 16,
   "metadata": {},
   "outputs": [],
   "source": [
    "rna.X = rna.layers[\"counts\"].copy()"
   ]
  },
  {
   "cell_type": "code",
   "execution_count": 17,
   "metadata": {},
   "outputs": [
    {
     "name": "stderr",
     "output_type": "stream",
     "text": [
      "/mnt/hdd/chaozhong/conda/miniconda3/lib/python3.7/site-packages/sklearn/utils/extmath.py:376: FutureWarning: If 'random_state' is not supplied, the current default is to use 0 as a fixed seed. This will change to  None in version 1.2 leading to non-deterministic results that better reflect nature of the randomized_svd solver. If you want to silence this warning, set 'random_state' to an integer seed or to None explicitly depending if you want your code to be deterministic or not.\n",
      "  FutureWarning,\n"
     ]
    }
   ],
   "source": [
    "#atac.X = atac.layers['counts'].copy()\n",
    "scglue.data.lsi(atac, n_components=100, use_highly_variable=False, n_iter=15)\n",
    "sc.pp.neighbors(atac, n_pcs=100, use_rep=\"X_lsi\")\n",
    "sc.tl.umap(atac)"
   ]
  },
  {
   "cell_type": "code",
   "execution_count": null,
   "metadata": {},
   "outputs": [],
   "source": []
  },
  {
   "cell_type": "markdown",
   "metadata": {},
   "source": [
    "### Build Graph to overlap with pcHi-C evidence"
   ]
  },
  {
   "cell_type": "markdown",
   "metadata": {},
   "source": [
    "#### Overlap"
   ]
  },
  {
   "cell_type": "code",
   "execution_count": 18,
   "metadata": {},
   "outputs": [
    {
     "data": {
      "application/vnd.jupyter.widget-view+json": {
       "model_id": "85a76dd3d29e447f9341a0e85dac6416",
       "version_major": 2,
       "version_minor": 0
      },
      "text/plain": [
       "  0%|          | 0/16376 [00:00<?, ?it/s]"
      ]
     },
     "metadata": {},
     "output_type": "display_data"
    },
    {
     "data": {
      "text/plain": [
       "13642"
      ]
     },
     "execution_count": 18,
     "metadata": {},
     "output_type": "execute_result"
    }
   ],
   "source": [
    "overlap_graph = scglue.genomics.window_graph(\n",
    "    genes.expand(2000, 0), peaks, 0,\n",
    "    attr_fn=lambda l, r, d: {\n",
    "        \"weight\": 1.0,\n",
    "        \"type\": \"overlap\"\n",
    "    }\n",
    ")\n",
    "overlap_graph = nx.DiGraph(overlap_graph)\n",
    "overlap_graph.number_of_edges()"
   ]
  },
  {
   "cell_type": "code",
   "execution_count": null,
   "metadata": {},
   "outputs": [],
   "source": []
  },
  {
   "cell_type": "markdown",
   "metadata": {},
   "source": [
    "#### Genomic distance"
   ]
  },
  {
   "cell_type": "code",
   "execution_count": 19,
   "metadata": {},
   "outputs": [
    {
     "data": {
      "application/vnd.jupyter.widget-view+json": {
       "model_id": "a435ed5942f74307b2eb5ab37558aa39",
       "version_major": 2,
       "version_minor": 0
      },
      "text/plain": [
       "  0%|          | 0/16376 [00:00<?, ?it/s]"
      ]
     },
     "metadata": {},
     "output_type": "display_data"
    },
    {
     "data": {
      "text/plain": [
       "381345"
      ]
     },
     "execution_count": 19,
     "metadata": {},
     "output_type": "execute_result"
    }
   ],
   "source": [
    "dist_graph = scglue.genomics.window_graph(\n",
    "    promoters, peaks, 150000,\n",
    "    attr_fn=lambda l, r, d: {\n",
    "        \"dist\": abs(d),\n",
    "        \"weight\": scglue.genomics.dist_power_decay(abs(d)),\n",
    "        \"type\": \"dist\"\n",
    "    }\n",
    ")\n",
    "dist_graph = nx.DiGraph(dist_graph)\n",
    "dist_graph.number_of_edges()\n"
   ]
  },
  {
   "cell_type": "markdown",
   "metadata": {},
   "source": [
    "#### pcHi-C"
   ]
  },
  {
   "cell_type": "code",
   "execution_count": 21,
   "metadata": {},
   "outputs": [
    {
     "data": {
      "text/html": [
       "<div>\n",
       "<style scoped>\n",
       "    .dataframe tbody tr th:only-of-type {\n",
       "        vertical-align: middle;\n",
       "    }\n",
       "\n",
       "    .dataframe tbody tr th {\n",
       "        vertical-align: top;\n",
       "    }\n",
       "\n",
       "    .dataframe thead th {\n",
       "        text-align: right;\n",
       "    }\n",
       "</style>\n",
       "<table border=\"1\" class=\"dataframe\">\n",
       "  <thead>\n",
       "    <tr style=\"text-align: right;\">\n",
       "      <th></th>\n",
       "      <th>chrom</th>\n",
       "      <th>chromStart</th>\n",
       "      <th>chromEnd</th>\n",
       "      <th>name</th>\n",
       "    </tr>\n",
       "    <tr>\n",
       "      <th>name</th>\n",
       "      <th></th>\n",
       "      <th></th>\n",
       "      <th></th>\n",
       "      <th></th>\n",
       "    </tr>\n",
       "  </thead>\n",
       "  <tbody>\n",
       "    <tr>\n",
       "      <th>2</th>\n",
       "      <td>chr1</td>\n",
       "      <td>16007</td>\n",
       "      <td>24571</td>\n",
       "      <td>2</td>\n",
       "    </tr>\n",
       "    <tr>\n",
       "      <th>3</th>\n",
       "      <td>chr1</td>\n",
       "      <td>24571</td>\n",
       "      <td>27981</td>\n",
       "      <td>3</td>\n",
       "    </tr>\n",
       "    <tr>\n",
       "      <th>4</th>\n",
       "      <td>chr1</td>\n",
       "      <td>27981</td>\n",
       "      <td>30429</td>\n",
       "      <td>4</td>\n",
       "    </tr>\n",
       "  </tbody>\n",
       "</table>\n",
       "</div>"
      ],
      "text/plain": [
       "     chrom  chromStart  chromEnd name\n",
       "name                                 \n",
       "2     chr1       16007     24571    2\n",
       "3     chr1       24571     27981    3\n",
       "4     chr1       27981     30429    4"
      ]
     },
     "execution_count": 21,
     "metadata": {},
     "output_type": "execute_result"
    }
   ],
   "source": [
    "frags = pd.read_table(\n",
    "    \"../pcHiC/Human_hg38/Digest_Human_HindIII.rmap\",\n",
    "    header=None, names=[\"chrom\", \"chromStart\", \"chromEnd\", \"name\"],\n",
    "    dtype={\"name\": str}\n",
    ")\n",
    "frags[\"chromStart\"] -= 1  # Originally 1-based, convert to 0-based as in BED\n",
    "frags.index = frags[\"name\"]\n",
    "frags.head(n=3)"
   ]
  },
  {
   "cell_type": "code",
   "execution_count": 22,
   "metadata": {},
   "outputs": [],
   "source": [
    "baits = pd.read_table(\n",
    "    \"../pcHiC/Human_hg38/Digest_Human_HindIII_baits_e75_ID.baitmap\",\n",
    "    header=None, names=[\"chrom\", \"chromStart\", \"chromEnd\", \"name\", \"targets\"],\n",
    "    usecols=[\"name\"], dtype={\"name\": str}\n",
    ")[\"name\"].to_numpy()\n",
    "baits = scglue.genomics.Bed(frags.loc[baits, :])"
   ]
  },
  {
   "cell_type": "code",
   "execution_count": 23,
   "metadata": {},
   "outputs": [
    {
     "data": {
      "text/plain": [
       "(517191, 2)"
      ]
     },
     "execution_count": 23,
     "metadata": {},
     "output_type": "execute_result"
    }
   ],
   "source": [
    "used_cts = [\"Mon\", \"nCD4\", \"tCD4\", \"aCD4\", \"naCD4\", \"nCD8\", \"tCD8\", \"nB\", \"tB\"]\n",
    "bait_oe = pd.read_table(\n",
    "    \"../pcHiC/PCHiC_peak_matrix_cutoff5.tsv\",\n",
    "    usecols=[\"baitID\", \"oeID\"] + used_cts, dtype={\"baitID\": str, \"oeID\": str}\n",
    ")\n",
    "bait_oe = bait_oe.loc[bait_oe.loc[:, used_cts].to_numpy().max(axis=1) > 5, [\"baitID\", \"oeID\"]]\n",
    "bait_oe.shape"
   ]
  },
  {
   "cell_type": "code",
   "execution_count": 25,
   "metadata": {},
   "outputs": [
    {
     "data": {
      "text/plain": [
       "(516753, 2)"
      ]
     },
     "execution_count": 25,
     "metadata": {},
     "output_type": "execute_result"
    }
   ],
   "source": [
    "frags_set, baits_set = set(frags[\"name\"]), set(baits[\"name\"])\n",
    "bait_oe = bait_oe.loc[[\n",
    "    i in baits_set and j in frags_set\n",
    "    for i, j in zip(bait_oe[\"baitID\"], bait_oe[\"oeID\"])\n",
    "], :]  # Some frags might be missing if liftover is used\n",
    "bait_oe.shape"
   ]
  },
  {
   "cell_type": "code",
   "execution_count": 26,
   "metadata": {},
   "outputs": [],
   "source": [
    "bait_oe = pd.concat([bait_oe, pd.DataFrame({\"baitID\": baits.index, \"oeID\": baits.index})])  # Add same-frag links\n",
    "bait_oe = nx.from_pandas_edgelist(bait_oe, source=\"baitID\", target=\"oeID\", create_using=nx.DiGraph)\n",
    "oes = scglue.genomics.Bed(frags.loc[np.unique([e[1] for e in bait_oe.edges]), :])"
   ]
  },
  {
   "cell_type": "code",
   "execution_count": 27,
   "metadata": {},
   "outputs": [
    {
     "data": {
      "application/vnd.jupyter.widget-view+json": {
       "model_id": "7148b43dbb5a49b2a378718ba71e9492",
       "version_major": 2,
       "version_minor": 0
      },
      "text/plain": [
       "  0%|          | 0/16376 [00:00<?, ?it/s]"
      ]
     },
     "metadata": {},
     "output_type": "display_data"
    },
    {
     "data": {
      "application/vnd.jupyter.widget-view+json": {
       "model_id": "9cd56c217dc34b03b8db2ef8c6373eab",
       "version_major": 2,
       "version_minor": 0
      },
      "text/plain": [
       "  0%|          | 0/192420 [00:00<?, ?it/s]"
      ]
     },
     "metadata": {},
     "output_type": "display_data"
    }
   ],
   "source": [
    "gene_bait = scglue.genomics.window_graph(promoters, baits, 1000)\n",
    "oe_peak = scglue.genomics.window_graph(oes, peaks, 1000)"
   ]
  },
  {
   "cell_type": "code",
   "execution_count": 28,
   "metadata": {},
   "outputs": [
    {
     "data": {
      "text/plain": [
       "255985"
      ]
     },
     "execution_count": 28,
     "metadata": {},
     "output_type": "execute_result"
    }
   ],
   "source": [
    "pchic_graph = (\n",
    "    biadjacency_matrix(gene_bait, genes.index, baits.index, weight=None) @\n",
    "    biadjacency_matrix(bait_oe, baits.index, oes.index, weight=None) @\n",
    "    biadjacency_matrix(oe_peak, oes.index, peaks.index, weight=None)\n",
    ").tocoo()\n",
    "pchic_graph.eliminate_zeros()\n",
    "pchic_graph.data = np.minimum(pchic_graph.data, 1.0)\n",
    "pchic_graph = nx.DiGraph([\n",
    "    (genes.index[i], peaks.index[j], {\"weight\": k, \"type\": \"pchic\"})\n",
    "    for i, j, k in zip(pchic_graph.row, pchic_graph.col, pchic_graph.data)\n",
    "])\n",
    "pchic_graph.number_of_edges()"
   ]
  },
  {
   "cell_type": "code",
   "execution_count": 29,
   "metadata": {},
   "outputs": [],
   "source": [
    "pchic_links = nx.to_pandas_edgelist(\n",
    "    bait_oe, source=\"baitID\", target=\"oeID\"\n",
    ").query(\n",
    "    \"baitID != oeID\"\n",
    ").merge(\n",
    "    frags, how=\"left\", left_on=\"baitID\", right_index=True\n",
    ").merge(\n",
    "    frags, how=\"left\", left_on=\"oeID\", right_index=True\n",
    ").merge(\n",
    "    nx.to_pandas_edgelist(gene_bait, source=\"gene\", target=\"baitID\"), how=\"left\", on=\"baitID\"\n",
    ").dropna(subset=[\"gene\"]).assign(score=1).loc[:, [\n",
    "    \"chrom_x\", \"chromStart_x\", \"chromEnd_x\",\n",
    "    \"chrom_y\", \"chromStart_y\", \"chromEnd_y\",\n",
    "    \"score\", \"gene\"\n",
    "]]\n",
    "pchic_links = pchic_links.query(\"chrom_x == chrom_y\")\n",
    "pchic_links.to_csv(f\"pchic.annotated_links\", sep=\"\\t\", index=False, header=False)"
   ]
  },
  {
   "cell_type": "code",
   "execution_count": 30,
   "metadata": {},
   "outputs": [],
   "source": [
    "nx.write_graphml(pchic_graph, \"pchic.graphml.gz\")"
   ]
  },
  {
   "cell_type": "code",
   "execution_count": 31,
   "metadata": {},
   "outputs": [
    {
     "data": {
      "text/plain": [
       "14805"
      ]
     },
     "execution_count": 31,
     "metadata": {},
     "output_type": "execute_result"
    }
   ],
   "source": [
    "rna.var[\"in_pchic\"] = biadjacency_matrix(gene_bait, genes.index).sum(axis=1).A1 != 0\n",
    "rna.var[\"in_pchic\"].sum()"
   ]
  },
  {
   "cell_type": "markdown",
   "metadata": {},
   "source": [
    "### Update highly-variable genes"
   ]
  },
  {
   "cell_type": "code",
   "execution_count": 32,
   "metadata": {},
   "outputs": [
    {
     "data": {
      "text/plain": [
       "6000"
      ]
     },
     "execution_count": 32,
     "metadata": {},
     "output_type": "execute_result"
    }
   ],
   "source": [
    "rna.var[\"o_highly_variable\"] = rna.var[\"highly_variable\"]\n",
    "rna.var[\"o_highly_variable\"].sum()"
   ]
  },
  {
   "cell_type": "code",
   "execution_count": 33,
   "metadata": {},
   "outputs": [
    {
     "data": {
      "application/vnd.jupyter.widget-view+json": {
       "model_id": "0cc73cbcdd2345658f1cb8cc72f0332a",
       "version_major": 2,
       "version_minor": 0
      },
      "text/plain": [
       "  0%|          | 0/16376 [00:00<?, ?it/s]"
      ]
     },
     "metadata": {},
     "output_type": "display_data"
    },
    {
     "data": {
      "text/plain": [
       "12763"
      ]
     },
     "execution_count": 33,
     "metadata": {},
     "output_type": "execute_result"
    }
   ],
   "source": [
    "rna.var[\"in_cicero\"] = biadjacency_matrix(\n",
    "    scglue.genomics.window_graph(promoters, peaks, 0),\n",
    "    genes.index\n",
    ").sum(axis=1).A1 > 0\n",
    "rna.var[\"in_cicero\"].sum()"
   ]
  },
  {
   "cell_type": "code",
   "execution_count": 34,
   "metadata": {},
   "outputs": [
    {
     "data": {
      "text/plain": [
       "4342"
      ]
     },
     "execution_count": 34,
     "metadata": {},
     "output_type": "execute_result"
    }
   ],
   "source": [
    "rna.var[\"d_highly_variable\"] = functools.reduce(np.logical_and, [\n",
    "    rna.var[\"highly_variable\"],\n",
    "    rna.var[\"in_pchic\"],\n",
    "    rna.var[\"in_cicero\"]\n",
    "])\n",
    "rna.var[\"d_highly_variable\"].sum()"
   ]
  },
  {
   "cell_type": "code",
   "execution_count": 35,
   "metadata": {},
   "outputs": [
    {
     "data": {
      "text/plain": [
       "6000"
      ]
     },
     "execution_count": 35,
     "metadata": {},
     "output_type": "execute_result"
    }
   ],
   "source": [
    "rna.var[\"dcq_highly_variable\"] = rna.var[\"highly_variable\"]\n",
    "rna.var[\"dcq_highly_variable\"].sum()"
   ]
  },
  {
   "cell_type": "code",
   "execution_count": 36,
   "metadata": {},
   "outputs": [],
   "source": [
    "o_prior = overlap_graph.copy()"
   ]
  },
  {
   "cell_type": "code",
   "execution_count": 37,
   "metadata": {},
   "outputs": [],
   "source": [
    "hvg_reachable = scglue.graph.reachable_vertices(o_prior, rna.var.query(\"o_highly_variable\").index)\n"
   ]
  },
  {
   "cell_type": "code",
   "execution_count": 38,
   "metadata": {},
   "outputs": [
    {
     "data": {
      "text/plain": [
       "4833"
      ]
     },
     "execution_count": 38,
     "metadata": {},
     "output_type": "execute_result"
    }
   ],
   "source": [
    "atac.var[\"o_highly_variable\"] = [item in hvg_reachable for item in atac.var_names]\n",
    "atac.var[\"o_highly_variable\"].sum()"
   ]
  },
  {
   "cell_type": "code",
   "execution_count": 39,
   "metadata": {},
   "outputs": [],
   "source": [
    "o_prior = scglue.graph.compose_multigraph(o_prior, o_prior.reverse())\n",
    "for item in itertools.chain(atac.var_names, rna.var_names):\n",
    "    o_prior.add_edge(item, item, weight=1.0, type=\"self-loop\")\n",
    "nx.set_edge_attributes(o_prior, 1, \"sign\")"
   ]
  },
  {
   "cell_type": "code",
   "execution_count": 40,
   "metadata": {},
   "outputs": [],
   "source": [
    "o_prior = o_prior.subgraph(hvg_reachable)"
   ]
  },
  {
   "cell_type": "code",
   "execution_count": 41,
   "metadata": {},
   "outputs": [],
   "source": [
    "d_prior = dist_graph.copy()"
   ]
  },
  {
   "cell_type": "code",
   "execution_count": 42,
   "metadata": {},
   "outputs": [],
   "source": [
    "hvg_reachable = scglue.graph.reachable_vertices(d_prior, rna.var.query(\"d_highly_variable\").index)\n"
   ]
  },
  {
   "cell_type": "code",
   "execution_count": 43,
   "metadata": {},
   "outputs": [
    {
     "data": {
      "text/plain": [
       "63169"
      ]
     },
     "execution_count": 43,
     "metadata": {},
     "output_type": "execute_result"
    }
   ],
   "source": [
    "atac.var[\"d_highly_variable\"] = [item in hvg_reachable for item in atac.var_names]\n",
    "atac.var[\"d_highly_variable\"].sum()"
   ]
  },
  {
   "cell_type": "code",
   "execution_count": null,
   "metadata": {},
   "outputs": [],
   "source": [
    "d_prior = scglue.graph.compose_multigraph(d_prior, d_prior.reverse())\n",
    "for item in itertools.chain(atac.var_names, rna.var_names):\n",
    "    d_prior.add_edge(item, item, weight=1.0, type=\"self-loop\")\n",
    "nx.set_edge_attributes(d_prior, 1, \"sign\")"
   ]
  },
  {
   "cell_type": "code",
   "execution_count": null,
   "metadata": {},
   "outputs": [],
   "source": [
    "d_prior = d_prior.subgraph(hvg_reachable)\n"
   ]
  },
  {
   "cell_type": "code",
   "execution_count": null,
   "metadata": {},
   "outputs": [],
   "source": [
    "rna.write(f\"rna.h5ad\", compression=\"gzip\")\n",
    "atac.write(f\"atac.h5ad\", compression=\"gzip\")"
   ]
  },
  {
   "cell_type": "code",
   "execution_count": null,
   "metadata": {},
   "outputs": [],
   "source": []
  },
  {
   "cell_type": "code",
   "execution_count": null,
   "metadata": {},
   "outputs": [],
   "source": []
  },
  {
   "cell_type": "code",
   "execution_count": null,
   "metadata": {},
   "outputs": [],
   "source": []
  }
 ],
 "metadata": {
  "kernelspec": {
   "display_name": "Python 3",
   "language": "python",
   "name": "python3"
  },
  "language_info": {
   "codemirror_mode": {
    "name": "ipython",
    "version": 3
   },
   "file_extension": ".py",
   "mimetype": "text/x-python",
   "name": "python",
   "nbconvert_exporter": "python",
   "pygments_lexer": "ipython3",
   "version": "3.6.13"
  }
 },
 "nbformat": 4,
 "nbformat_minor": 5
}
