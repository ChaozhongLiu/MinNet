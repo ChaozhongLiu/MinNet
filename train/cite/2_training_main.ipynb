{
 "cells": [
  {
   "cell_type": "markdown",
   "metadata": {},
   "source": [
    "# Training the model - Cite-seq\n",
    "### Chaozhong Liu"
   ]
  },
  {
   "cell_type": "markdown",
   "metadata": {},
   "source": [
    "Import necessary libraries.  \n",
    "All self-defined helper functions are saved in **utils/**"
   ]
  },
  {
   "cell_type": "code",
   "execution_count": 1,
   "metadata": {},
   "outputs": [
    {
     "name": "stderr",
     "output_type": "stream",
     "text": [
      "/usr/local/lib/python3.6/dist-packages/statsmodels/tools/_testing.py:19: FutureWarning: pandas.util.testing is deprecated. Use the functions in the public API at pandas.testing instead.\n",
      "  import pandas.util.testing as tm\n"
     ]
    }
   ],
   "source": [
    "import os\n",
    "import time\n",
    "import math\n",
    "import torch\n",
    "import seaborn as sns\n",
    "\n",
    "import numpy as np\n",
    "import pandas as pd\n",
    "import scipy as sp\n",
    "import anndata as ad\n",
    "from utils.train_util import Siamese_Trainer\n",
    "from utils.data_util import dataset, test_data\n",
    "import matplotlib.pyplot as plt\n",
    "\n",
    "\n",
    "os.environ[\"CUDA_DEVICE_ORDER\"] = \"PCI_BUS_ID\"\n",
    "os.environ[\"CUDA_VISIBLE_DEVICES\"] = '0'\n",
    "os.environ[\"CUDA_LAUNCH_BLOCKING\"] = '1'\n"
   ]
  },
  {
   "cell_type": "markdown",
   "metadata": {},
   "source": [
    "### Create dataset object"
   ]
  },
  {
   "cell_type": "code",
   "execution_count": 2,
   "metadata": {},
   "outputs": [
    {
     "name": "stdout",
     "output_type": "stream",
     "text": [
      "Loading mod1 from ../../Cite_phase2/model_v3/data/Cite_GEX_processed.training.filt.h5ad\n",
      "Loading mod2 from data/Cite_ADT_processed.training.filt.h5ad\n",
      "mod1:  (44277, 2175)\n",
      "mod2:  (44277, 134)\n",
      "Selecting and ordering features...\n",
      "Normalizing GEX data to range between 0 and 1...\n",
      "Normalizing ADT data to range between 0 and 1...\n"
     ]
    },
    {
     "name": "stderr",
     "output_type": "stream",
     "text": [
      "Trying to set attribute `.obs` of view, copying.\n",
      "Trying to set attribute `.obs` of view, copying.\n"
     ]
    },
    {
     "name": "stdout",
     "output_type": "stream",
     "text": [
      "1 batches detected, will train the model with batch separated in each epoch.\n",
      "42 labels detected.\n",
      "Spliting each batch into training and validation...\n",
      "Training dataset:\n",
      "\t35422 cells,\n",
      "\n",
      "Validation dataset:\n",
      "\t8855 cells,\n"
     ]
    }
   ],
   "source": [
    "dat = dataset(mod1='data/Cite_GEX.training.h5ad', \n",
    "              mod2='data/Cite_ADT.training.h5ad',\n",
    "              batch_number=1800, C=3.0, validation=True)"
   ]
  },
  {
   "cell_type": "markdown",
   "metadata": {},
   "source": [
    "### Create the trainer and model"
   ]
  },
  {
   "cell_type": "code",
   "execution_count": 3,
   "metadata": {
    "scrolled": false
   },
   "outputs": [],
   "source": [
    "train = Siamese_Trainer(dat, num_epochs=100, batch_number=1800, model_path='./ckpts/',\n",
    "                        num_prts=134, num_genes=2175, margin=10.0, \n",
    "                        lamb=0.5, lr=1e-4, validation=True)\n"
   ]
  },
  {
   "cell_type": "markdown",
   "metadata": {},
   "source": [
    "### Training\n",
    "During training, model weights will be saved every 5 epochs.   \n",
    "The model we used in the submission is the model of **epoch 90**.  \n",
    "\n",
    "Each epoch takes about **7 mins** in our server. To save your time, I think you can try any epoch after 50. I think it will generate similar results. (You can evern try 15 or 20 as no big difference is found in evaluating validation set :D)  \n",
    "\n",
    "Then you can substitute the SiaAtt_cite.ckpt in my submission with the file **ckpts/model_margin10.0_lamb0.5_epoch90.ckpt**"
   ]
  },
  {
   "cell_type": "code",
   "execution_count": null,
   "metadata": {},
   "outputs": [],
   "source": [
    "log_file = 'ckpts/MinNet_margin_10.0_lamb_0.5.txt'\n",
    "with open(log_file, 'w') as fw:\n",
    "    #fw.write(str(args)+'\\n')\n",
    "    train.train(fw, intervals=1, initial=True)\n"
   ]
  },
  {
   "cell_type": "code",
   "execution_count": null,
   "metadata": {},
   "outputs": [],
   "source": []
  },
  {
   "cell_type": "code",
   "execution_count": null,
   "metadata": {},
   "outputs": [],
   "source": []
  },
  {
   "cell_type": "code",
   "execution_count": null,
   "metadata": {},
   "outputs": [],
   "source": []
  }
 ],
 "metadata": {
  "kernelspec": {
   "display_name": "Python 3",
   "language": "python",
   "name": "python3"
  },
  "language_info": {
   "codemirror_mode": {
    "name": "ipython",
    "version": 3
   },
   "file_extension": ".py",
   "mimetype": "text/x-python",
   "name": "python",
   "nbconvert_exporter": "python",
   "pygments_lexer": "ipython3",
   "version": "3.6.13"
  }
 },
 "nbformat": 4,
 "nbformat_minor": 2
}
