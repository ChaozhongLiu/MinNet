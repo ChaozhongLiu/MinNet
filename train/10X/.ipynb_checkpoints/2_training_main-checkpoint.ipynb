{
 "cells": [
  {
   "cell_type": "markdown",
   "metadata": {},
   "source": [
    "# Training the model\n",
    "### Chaozhong Liu"
   ]
  },
  {
   "cell_type": "markdown",
   "metadata": {},
   "source": [
    "Import necessary libraries.  \n",
    "All self-defined helper functions are saved in **utils/**"
   ]
  },
  {
   "cell_type": "code",
   "execution_count": null,
   "metadata": {},
   "outputs": [],
   "source": [
    "import os\n",
    "import time\n",
    "import math\n",
    "import torch\n",
    "import seaborn as sns\n",
    "\n",
    "import numpy as np\n",
    "import pandas as pd\n",
    "import scipy as sp\n",
    "import anndata as ad\n",
    "from utils.train_util import Siamese_Trainer\n",
    "from utils.data_util import dataset, test_data\n",
    "import matplotlib.pyplot as plt\n",
    "\n",
    "\n",
    "os.environ[\"CUDA_DEVICE_ORDER\"] = \"PCI_BUS_ID\"\n",
    "os.environ[\"CUDA_VISIBLE_DEVICES\"] = '0'\n",
    "os.environ[\"CUDA_LAUNCH_BLOCKING\"] = '1'\n"
   ]
  },
  {
   "cell_type": "markdown",
   "metadata": {},
   "source": [
    "### Create dataset object"
   ]
  },
  {
   "cell_type": "code",
   "execution_count": null,
   "metadata": {},
   "outputs": [],
   "source": [
    "dat = dataset(mod1='data/Multiome_GEX.training.h5ad', \n",
    "              mod2='data/Multiome_ATAC.training.h5ad',\n",
    "              batch_number=750, C=3.0, validation=True)"
   ]
  },
  {
   "cell_type": "markdown",
   "metadata": {},
   "source": [
    "### Create the trainer and model"
   ]
  },
  {
   "cell_type": "code",
   "execution_count": null,
   "metadata": {},
   "outputs": [],
   "source": [
    "train = Siamese_Trainer(dat, num_epochs=100, batch_number=750, model_path='./ckpts/',\n",
    "                        num_peaks=6532, num_genes=6532, margin = 10.0,\n",
    "                        lamb=0.5, lr=1e-4, validation=True)"
   ]
  },
  {
   "cell_type": "markdown",
   "metadata": {},
   "source": [
    "### Training\n",
    "During training, model weights will be saved every 5 epochs.   \n",
    "The model we used in the submission is the model of **epoch 35**.  \n",
    "\n",
    "Each epoch takes about **8 mins** in our server.    \n",
    "\n",
    "Then you can substitute the **SiaAtt.ckpt** in my submission with the file **ckpts/model_margin10.0_lamb0.5_epoch35.ckpt**"
   ]
  },
  {
   "cell_type": "code",
   "execution_count": null,
   "metadata": {},
   "outputs": [],
   "source": [
    "log_file = 'ckpts/MinNet_margin10.0_lamb_0.5.txt'\n",
    "with open(log_file, 'w') as fw:\n",
    "    #fw.write(str(args)+'\\n')\n",
    "    train.train(fw, intervals=1, initial=True)"
   ]
  },
  {
   "cell_type": "code",
   "execution_count": null,
   "metadata": {
    "id": "JTtjwG1582hP"
   },
   "outputs": [],
   "source": []
  },
  {
   "cell_type": "code",
   "execution_count": null,
   "metadata": {
    "id": "nJpA_G7Cv4gG"
   },
   "outputs": [],
   "source": []
  }
 ],
 "metadata": {
  "kernelspec": {
   "display_name": "Python 3",
   "language": "python",
   "name": "python3"
  },
  "language_info": {
   "codemirror_mode": {
    "name": "ipython",
    "version": 3
   },
   "file_extension": ".py",
   "mimetype": "text/x-python",
   "name": "python",
   "nbconvert_exporter": "python",
   "pygments_lexer": "ipython3",
   "version": "3.6.13"
  }
 },
 "nbformat": 4,
 "nbformat_minor": 1
}
