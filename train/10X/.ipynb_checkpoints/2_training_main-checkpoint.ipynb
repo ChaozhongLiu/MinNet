{
 "cells": [
  {
   "cell_type": "markdown",
   "metadata": {},
   "source": [
    "# Training the model\n",
    "### Chaozhong Liu"
   ]
  },
  {
   "cell_type": "markdown",
   "metadata": {},
   "source": [
    "Import necessary libraries.  \n",
    "All self-defined helper functions are saved in **utils/**"
   ]
  },
  {
   "cell_type": "code",
   "execution_count": 1,
   "metadata": {
    "executionInfo": {
     "elapsed": 9139,
     "status": "ok",
     "timestamp": 1638012075151,
     "user": {
      "displayName": "Chaozhong Liu",
      "photoUrl": "https://lh3.googleusercontent.com/a/default-user=s64",
      "userId": "11433061740906465958"
     },
     "user_tz": 360
    },
    "id": "HnKMgCjL82X1"
   },
   "outputs": [
    {
     "name": "stderr",
     "output_type": "stream",
     "text": [
      "/usr/local/lib/python3.6/dist-packages/statsmodels/tools/_testing.py:19: FutureWarning: pandas.util.testing is deprecated. Use the functions in the public API at pandas.testing instead.\n",
      "  import pandas.util.testing as tm\n"
     ]
    }
   ],
   "source": [
    "import os\n",
    "import time\n",
    "import math\n",
    "import torch\n",
    "import seaborn as sns\n",
    "\n",
    "import numpy as np\n",
    "import pandas as pd\n",
    "import scipy as sp\n",
    "import anndata as ad\n",
    "from utils.train_util import Siamese_Trainer\n",
    "from utils.data_util import dataset, test_data\n",
    "import matplotlib.pyplot as plt\n",
    "\n",
    "\n",
    "os.environ[\"CUDA_DEVICE_ORDER\"] = \"PCI_BUS_ID\"\n",
    "os.environ[\"CUDA_VISIBLE_DEVICES\"] = '0'\n",
    "os.environ[\"CUDA_LAUNCH_BLOCKING\"] = '1'\n"
   ]
  },
  {
   "cell_type": "markdown",
   "metadata": {},
   "source": [
    "### Create dataset object"
   ]
  },
  {
   "cell_type": "code",
   "execution_count": 2,
   "metadata": {
    "id": "BbM1mxsV45wz"
   },
   "outputs": [
    {
     "name": "stdout",
     "output_type": "stream",
     "text": [
      "Loading mod1 from data/Multiome_GEX_processed.training.ACT.h5ad\n",
      "Loading mod2 from data/Multiome_ATAC_processed.training.ACT.h5ad\n",
      "mod1:  (28089, 4876)\n",
      "mod2:  (28089, 4876)\n",
      "Selecting and ordering features...\n",
      "Normalizing data to range between 0 and 1...\n"
     ]
    },
    {
     "name": "stderr",
     "output_type": "stream",
     "text": [
      "Trying to set attribute `.obs` of view, copying.\n",
      "Trying to set attribute `.obs` of view, copying.\n"
     ]
    },
    {
     "name": "stdout",
     "output_type": "stream",
     "text": [
      "1 batches detected, will train the model with batch separated in each epoch.\n",
      "22 labels detected.\n",
      "Spliting each batch into training and validation...\n",
      "Training dataset:\n",
      "\t22472 cells,\n",
      "\n",
      "Validation dataset:\n",
      "\t5617 cells,\n"
     ]
    }
   ],
   "source": [
    "dat = dataset(mod1='data/Multiome_GEX_processed.training.ACT.h5ad', \n",
    "              mod2='data/Multiome_ATAC_processed.training.ACT.h5ad',\n",
    "              batch_number=750, validation=True)"
   ]
  },
  {
   "cell_type": "markdown",
   "metadata": {},
   "source": [
    "### Create the trainer and model"
   ]
  },
  {
   "cell_type": "code",
   "execution_count": 3,
   "metadata": {
    "executionInfo": {
     "elapsed": 3594,
     "status": "ok",
     "timestamp": 1637992290422,
     "user": {
      "displayName": "Chaozhong Liu",
      "photoUrl": "https://lh3.googleusercontent.com/a/default-user=s64",
      "userId": "11433061740906465958"
     },
     "user_tz": 360
    },
    "id": "YFbwVg8U45r-"
   },
   "outputs": [],
   "source": [
    "train = Siamese_Trainer(dat, num_epochs=100, batch_number=750, model_path='./ckpts/',\n",
    "                        num_peaks=4876, num_genes=4876, margin = 10.0,\n",
    "                        lamb=0.5, lr=1e-4, validation=True)"
   ]
  },
  {
   "cell_type": "markdown",
   "metadata": {},
   "source": [
    "### Training\n",
    "During training, model weights will be saved every 5 epochs.   \n",
    "The model we used in the submission is the model of **epoch 35**.  \n",
    "\n",
    "Each epoch takes about **8 mins** in our server.    \n",
    "\n",
    "Then you can substitute the **SiaAtt.ckpt** in my submission with the file **ckpts/model_margin10.0_lamb0.5_epoch35.ckpt**"
   ]
  },
  {
   "cell_type": "code",
   "execution_count": null,
   "metadata": {},
   "outputs": [],
   "source": [
    "log_file = 'ckpts/SiaNN_margin10.0_lamb_0.5.txt'\n",
    "with open(log_file, 'w') as fw:\n",
    "    #fw.write(str(args)+'\\n')\n",
    "    train.train(fw, intervals=1, initial=True)"
   ]
  },
  {
   "cell_type": "code",
   "execution_count": null,
   "metadata": {
    "id": "JTtjwG1582hP"
   },
   "outputs": [],
   "source": []
  },
  {
   "cell_type": "code",
   "execution_count": null,
   "metadata": {
    "id": "nJpA_G7Cv4gG"
   },
   "outputs": [],
   "source": []
  }
 ],
 "metadata": {
  "kernelspec": {
   "display_name": "Python 3",
   "language": "python",
   "name": "python3"
  },
  "language_info": {
   "codemirror_mode": {
    "name": "ipython",
    "version": 3
   },
   "file_extension": ".py",
   "mimetype": "text/x-python",
   "name": "python",
   "nbconvert_exporter": "python",
   "pygments_lexer": "ipython3",
   "version": "3.6.13"
  }
 },
 "nbformat": 4,
 "nbformat_minor": 1
}
