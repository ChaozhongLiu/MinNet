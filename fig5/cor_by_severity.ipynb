{
 "cells": [
  {
   "cell_type": "code",
   "execution_count": 1,
   "metadata": {},
   "outputs": [
    {
     "name": "stderr",
     "output_type": "stream",
     "text": [
      "/usr/local/lib/python3.6/dist-packages/dask/config.py:168: YAMLLoadWarning: calling yaml.load() without Loader=... is deprecated, as the default Loader is unsafe. Please read https://msg.pyyaml.org/load for full details.\n",
      "  data = yaml.load(f.read()) or {}\n",
      "/usr/local/lib/python3.6/dist-packages/statsmodels/tools/_testing.py:19: FutureWarning: pandas.util.testing is deprecated. Use the functions in the public API at pandas.testing instead.\n",
      "  import pandas.util.testing as tm\n"
     ]
    }
   ],
   "source": [
    "import anndata as ad\n",
    "import pandas as pd\n",
    "import numpy as np\n",
    "import scanpy as sc\n",
    "import sys\n",
    "\n",
    "import utils.cis_infer_util as cis_infer_util\n"
   ]
  },
  {
   "cell_type": "code",
   "execution_count": 2,
   "metadata": {},
   "outputs": [],
   "source": [
    "jem_rna = ad.read_h5ad('data/JEM_GEX.smoothed.5NN.h5ad')\n",
    "jem_atac = ad.read_h5ad('data/JEM_ATAC.smoothed.5NN.h5ad')\n"
   ]
  },
  {
   "cell_type": "markdown",
   "metadata": {},
   "source": [
    "### Monocytes"
   ]
  },
  {
   "cell_type": "code",
   "execution_count": 3,
   "metadata": {},
   "outputs": [],
   "source": [
    "jem_rna_ct = jem_rna[jem_rna.obs['cell_type'].isin(['CD14 Mono', 'CD16 Mono'])].copy()\n",
    "jem_atac_ct = jem_atac[jem_atac.obs['cell_type'].isin(['CD14 Mono', 'CD16 Mono'])].copy()\n"
   ]
  },
  {
   "cell_type": "code",
   "execution_count": 4,
   "metadata": {},
   "outputs": [],
   "source": [
    "genes = pd.read_csv('data/JEM_Mono_DEGs.csv')\n",
    "genes = np.unique(genes['gene'].to_numpy())\n",
    "\n",
    "distance = 150000\n",
    "ref_tss_fn = 'utils/hg38_ref_TSS.txt'\n",
    "\n",
    "jem_atac_ct.var_names = jem_atac_ct.var_names.str.replace(':','-',regex=False)"
   ]
  },
  {
   "cell_type": "code",
   "execution_count": null,
   "metadata": {},
   "outputs": [],
   "source": []
  },
  {
   "cell_type": "code",
   "execution_count": 5,
   "metadata": {},
   "outputs": [],
   "source": [
    "jem_rna_ct_0 = jem_rna_ct[jem_rna_ct.obs['current_severity_bin'].isin(['0'])]\n",
    "jem_rna_ct_4 = jem_rna_ct[jem_rna_ct.obs['current_severity_bin'].isin(['4-5'])]\n",
    "jem_rna_ct_6 = jem_rna_ct[jem_rna_ct.obs['current_severity_bin'].isin(['6-7'])]\n"
   ]
  },
  {
   "cell_type": "code",
   "execution_count": 6,
   "metadata": {},
   "outputs": [],
   "source": [
    "jem_atac_ct_0 = jem_atac_ct[jem_atac_ct.obs['current_severity_bin'].isin(['0'])]\n",
    "jem_atac_ct_4 = jem_atac_ct[jem_atac_ct.obs['current_severity_bin'].isin(['4-5'])]\n",
    "jem_atac_ct_6 = jem_atac_ct[jem_atac_ct.obs['current_severity_bin'].isin(['6-7'])]\n"
   ]
  },
  {
   "cell_type": "code",
   "execution_count": 7,
   "metadata": {},
   "outputs": [
    {
     "name": "stdout",
     "output_type": "stream",
     "text": [
      "Add suffix to cell names in RNA and ATAC data...\n",
      "Clustering pseudocells...\n",
      "Representation mode engaged, clustering based on combined SiaNN embedding...\n"
     ]
    },
    {
     "name": "stderr",
     "output_type": "stream",
     "text": [
      "/mnt/hdd/chaozhong/pylib/site-packages/scanpy/preprocessing/_normalization.py:138: UserWarning: Revieved a view of an AnnData. Making a copy.\n",
      "  view_to_actual(adata)\n"
     ]
    },
    {
     "name": "stdout",
     "output_type": "stream",
     "text": [
      "Selecting peaks within 150000bp of the genes...\n",
      "Zeros are kept and spearman correlation calculation will be done.\n"
     ]
    }
   ],
   "source": [
    "cis_score_df = pd.DataFrame(np.zeros((0,6)))\n",
    "cis_score_df.columns = ['genes','peaks','tss_dist','pRegion','Spearman.cor','Method']\n",
    "\n",
    "cis_score_tmp, rna_pseudo, atac_pseudo, _ = cis_infer_util.cis_element_score(jem_rna_ct_0, jem_atac_ct_0, genes, \n",
    "                                         distance, ref_tss_fn, use_rep='model',\n",
    "                                         n_pseudocells=50, return_pseudo_bulk=True)\n",
    "cis_score_tmp['Method'] = 'SiaNN'\n",
    "cis_score_df = pd.concat([cis_score_df,cis_score_tmp])\n",
    "cis_score_df.sort_values(by=['Spearman.cor'], ascending=False).to_csv('cor_by_severity/Mono_0_spr_cor.5NN.csv')\n",
    "\n"
   ]
  },
  {
   "cell_type": "code",
   "execution_count": 8,
   "metadata": {},
   "outputs": [],
   "source": [
    "multiome_data = pd.concat([pd.DataFrame(rna_pseudo.X), \n",
    "                              pd.DataFrame(atac_pseudo.X)], axis=1)\n",
    "multiome_data.columns = np.concatenate((rna_pseudo.var_names.to_numpy(),\n",
    "                                        atac_pseudo.var_names.to_numpy()))\n",
    "#NK_multiome_data['current_severity_bin'] = pseudo_label_index['cell_type'].to_numpy()\n",
    "multiome_data.to_csv('cor_by_severity/Mono_0_multiome_data.5NN.csv')"
   ]
  },
  {
   "cell_type": "code",
   "execution_count": null,
   "metadata": {},
   "outputs": [],
   "source": []
  },
  {
   "cell_type": "code",
   "execution_count": 9,
   "metadata": {},
   "outputs": [
    {
     "name": "stdout",
     "output_type": "stream",
     "text": [
      "Add suffix to cell names in RNA and ATAC data...\n",
      "Clustering pseudocells...\n",
      "Representation mode engaged, clustering based on combined SiaNN embedding...\n"
     ]
    },
    {
     "name": "stderr",
     "output_type": "stream",
     "text": [
      "/mnt/hdd/chaozhong/pylib/site-packages/scanpy/preprocessing/_normalization.py:138: UserWarning: Revieved a view of an AnnData. Making a copy.\n",
      "  view_to_actual(adata)\n"
     ]
    },
    {
     "name": "stdout",
     "output_type": "stream",
     "text": [
      "Selecting peaks within 150000bp of the genes...\n",
      "Zeros are kept and spearman correlation calculation will be done.\n"
     ]
    }
   ],
   "source": [
    "cis_score_df = pd.DataFrame(np.zeros((0,6)))\n",
    "cis_score_df.columns = ['genes','peaks','tss_dist','pRegion','Spearman.cor','Method']\n",
    "\n",
    "cis_score_tmp, rna_pseudo, atac_pseudo, _ = cis_infer_util.cis_element_score(jem_rna_ct_4, jem_atac_ct_4, genes, \n",
    "                                         distance, ref_tss_fn, use_rep='model',\n",
    "                                         n_pseudocells=50, return_pseudo_bulk=True)\n",
    "cis_score_tmp['Method'] = 'SiaNN'\n",
    "cis_score_df = pd.concat([cis_score_df,cis_score_tmp])\n",
    "cis_score_df.sort_values(by=['Spearman.cor'], ascending=False).to_csv('cor_by_severity/Mono_4-5_spr_cor.5NN.csv')\n"
   ]
  },
  {
   "cell_type": "code",
   "execution_count": 10,
   "metadata": {},
   "outputs": [],
   "source": [
    "multiome_data = pd.concat([pd.DataFrame(rna_pseudo.X), \n",
    "                              pd.DataFrame(atac_pseudo.X)], axis=1)\n",
    "multiome_data.columns = np.concatenate((rna_pseudo.var_names.to_numpy(),\n",
    "                                        atac_pseudo.var_names.to_numpy()))\n",
    "#NK_multiome_data['current_severity_bin'] = pseudo_label_index['cell_type'].to_numpy()\n",
    "multiome_data.to_csv('cor_by_severity/Mono_4-5_multiome_data.5NN.csv')"
   ]
  },
  {
   "cell_type": "code",
   "execution_count": null,
   "metadata": {},
   "outputs": [],
   "source": []
  },
  {
   "cell_type": "code",
   "execution_count": 11,
   "metadata": {},
   "outputs": [
    {
     "name": "stdout",
     "output_type": "stream",
     "text": [
      "Add suffix to cell names in RNA and ATAC data...\n",
      "Clustering pseudocells...\n",
      "Representation mode engaged, clustering based on combined SiaNN embedding...\n"
     ]
    },
    {
     "name": "stderr",
     "output_type": "stream",
     "text": [
      "/mnt/hdd/chaozhong/pylib/site-packages/scanpy/preprocessing/_normalization.py:138: UserWarning: Revieved a view of an AnnData. Making a copy.\n",
      "  view_to_actual(adata)\n"
     ]
    },
    {
     "name": "stdout",
     "output_type": "stream",
     "text": [
      "Selecting peaks within 150000bp of the genes...\n",
      "Zeros are kept and spearman correlation calculation will be done.\n"
     ]
    }
   ],
   "source": [
    "cis_score_df = pd.DataFrame(np.zeros((0,6)))\n",
    "cis_score_df.columns = ['genes','peaks','tss_dist','pRegion','Spearman.cor','Method']\n",
    "\n",
    "cis_score_tmp, rna_pseudo, atac_pseudo, _ = cis_infer_util.cis_element_score(jem_rna_ct_6, jem_atac_ct_6, genes, \n",
    "                                         distance, ref_tss_fn, use_rep='model',\n",
    "                                         n_pseudocells=50, return_pseudo_bulk=True)\n",
    "cis_score_tmp['Method'] = 'SiaNN'\n",
    "cis_score_df = pd.concat([cis_score_df,cis_score_tmp])\n",
    "cis_score_df.sort_values(by=['Spearman.cor'], ascending=False).to_csv('cor_by_severity/Mono_6-7_spr_cor.5NN.csv')\n"
   ]
  },
  {
   "cell_type": "code",
   "execution_count": 12,
   "metadata": {},
   "outputs": [],
   "source": [
    "multiome_data = pd.concat([pd.DataFrame(rna_pseudo.X), \n",
    "                              pd.DataFrame(atac_pseudo.X)], axis=1)\n",
    "multiome_data.columns = np.concatenate((rna_pseudo.var_names.to_numpy(),\n",
    "                                        atac_pseudo.var_names.to_numpy()))\n",
    "#NK_multiome_data['current_severity_bin'] = pseudo_label_index['cell_type'].to_numpy()\n",
    "multiome_data.to_csv('cor_by_severity/Mono_6-7_multiome_data.5NN.csv')"
   ]
  },
  {
   "cell_type": "code",
   "execution_count": null,
   "metadata": {},
   "outputs": [],
   "source": []
  },
  {
   "cell_type": "code",
   "execution_count": null,
   "metadata": {},
   "outputs": [],
   "source": []
  }
 ],
 "metadata": {
  "kernelspec": {
   "display_name": "Python 3",
   "language": "python",
   "name": "python3"
  },
  "language_info": {
   "codemirror_mode": {
    "name": "ipython",
    "version": 3
   },
   "file_extension": ".py",
   "mimetype": "text/x-python",
   "name": "python",
   "nbconvert_exporter": "python",
   "pygments_lexer": "ipython3",
   "version": "3.6.13"
  }
 },
 "nbformat": 4,
 "nbformat_minor": 2
}
