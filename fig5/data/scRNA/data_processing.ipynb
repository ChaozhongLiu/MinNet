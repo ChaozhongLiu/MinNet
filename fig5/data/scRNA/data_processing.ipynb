{
 "cells": [
  {
   "cell_type": "code",
   "execution_count": 1,
   "metadata": {},
   "outputs": [
    {
     "name": "stderr",
     "output_type": "stream",
     "text": [
      "/usr/local/lib/python3.6/dist-packages/dask/config.py:168: YAMLLoadWarning: calling yaml.load() without Loader=... is deprecated, as the default Loader is unsafe. Please read https://msg.pyyaml.org/load for full details.\n",
      "  data = yaml.load(f.read()) or {}\n"
     ]
    }
   ],
   "source": [
    "import anndata as ad\n",
    "import pandas as pd\n",
    "import numpy as np\n",
    "import scanpy as sc"
   ]
  },
  {
   "cell_type": "markdown",
   "metadata": {},
   "source": [
    "Data is downloaded from https://hosted-matrices-prod.s3-us-west-2.amazonaws.com/Single_cell_atlas_of_peripheral_immune_response_to_SARS_CoV_2_infection-25/Single_cell_atlas_of_peripheral_immune_response_to_SARS_CoV_2_infection.h5ad"
   ]
  },
  {
   "cell_type": "code",
   "execution_count": 2,
   "metadata": {},
   "outputs": [],
   "source": [
    "jem_rna = ad.read_h5ad('Single_cell_atlas_of_peripheral_immune_response_to_SARS_CoV_2_infection.h5ad')\n"
   ]
  },
  {
   "cell_type": "code",
   "execution_count": 3,
   "metadata": {},
   "outputs": [
    {
     "data": {
      "text/plain": [
       "AnnData object with n_obs × n_vars = 44721 × 26361\n",
       "    obs: 'Admission', 'ClusterID', 'DPS', 'DTF', 'Donor_full', 'HLA1', 'IFN1', 'Sex', 'Status', 'Ventilated', 'cell_type_coarse', 'cell_type_fine', 'nCount_RNA', 'nCount_SCT', 'nFeature_RNA', 'nFeature_SCT', 'percent_mt', 'percent_rpl', 'percent_rps', 'percent_rrna', 'seurat_clusters', 'singler'\n",
       "    var: 'Selected', 'sct_detection_rate', 'sct_gmean', 'sct_residual_mean', 'sct_residual_variance', 'sct_variable', 'sct_variance'\n",
       "    uns: 'assay', 'authors', 'disease', 'organism', 'preprint', 'short_name', 'tissue'\n",
       "    obsm: 'X_pca', 'X_umap'\n",
       "    varm: 'pca_feature_loadings'\n",
       "    layers: 'matrix', 'norm_data', 'scale_data'"
      ]
     },
     "execution_count": 3,
     "metadata": {},
     "output_type": "execute_result"
    }
   ],
   "source": [
    "jem_rna"
   ]
  },
  {
   "cell_type": "code",
   "execution_count": 13,
   "metadata": {},
   "outputs": [
    {
     "data": {
      "text/plain": [
       "covid_557      6545\n",
       "HIP043         5136\n",
       "covid_555_2    5006\n",
       "covid_558      3688\n",
       "covid_561      3364\n",
       "covid_555_1    3356\n",
       "HIP044         3146\n",
       "covid_559      2507\n",
       "HIP023         2306\n",
       "HIP002         2100\n",
       "HIP045         1998\n",
       "HIP015         1941\n",
       "covid_560      1893\n",
       "covid_556      1735\n",
       "dtype: int64"
      ]
     },
     "execution_count": 13,
     "metadata": {},
     "output_type": "execute_result"
    }
   ],
   "source": [
    "jem_rna = jem_rna[jem_rna.obs['']]"
   ]
  },
  {
   "cell_type": "code",
   "execution_count": 8,
   "metadata": {},
   "outputs": [
    {
     "data": {
      "text/plain": [
       "covid_555_1.1    C1 A\n",
       "covid_555_1.2    C1 A\n",
       "covid_555_1.3    C1 A\n",
       "covid_555_1.7    C1 A\n",
       "covid_555_1.8    C1 A\n",
       "                 ... \n",
       "HIP045.2543        H6\n",
       "HIP045.2544        H6\n",
       "HIP045.2545        H6\n",
       "HIP045.2546        H6\n",
       "HIP045.2547        H6\n",
       "Name: Donor_full, Length: 44721, dtype: category\n",
       "Categories (14, object): ['C1 A', 'C1 B', 'C2', 'C3', ..., 'H3', 'H4', 'H5', 'H6']"
      ]
     },
     "execution_count": 8,
     "metadata": {},
     "output_type": "execute_result"
    }
   ],
   "source": [
    "jem_rna.obs['Donor_full']"
   ]
  },
  {
   "cell_type": "code",
   "execution_count": 11,
   "metadata": {},
   "outputs": [],
   "source": [
    "jem_rna.obs['sample'] = jem_rna.obs.index.str.split('.').str[0]"
   ]
  },
  {
   "cell_type": "code",
   "execution_count": 19,
   "metadata": {},
   "outputs": [],
   "source": [
    "jem_rna = jem_rna[jem_rna.obs['sample'].isin(['HIP043','HIP044','HIP045','covid_555_1',\n",
    "                            'covid_555_2','covid_558','covid_559','covid_556'])]"
   ]
  },
  {
   "cell_type": "code",
   "execution_count": 14,
   "metadata": {},
   "outputs": [],
   "source": [
    "jem_atac = ad.read_h5ad('../scATAC/JEM_ATAC.act.h5ad')"
   ]
  },
  {
   "cell_type": "code",
   "execution_count": 17,
   "metadata": {},
   "outputs": [
    {
     "data": {
      "text/plain": [
       "ATAC_HIP043    3614\n",
       "ATAC_HIP044    2405\n",
       "ATAC_558       1219\n",
       "ATAC_555_1     1119\n",
       "ATAC_555_2      559\n",
       "ATAC_556        539\n",
       "ATAC_559        461\n",
       "ATAC_HIP045     322\n",
       "Name: sample, dtype: int64"
      ]
     },
     "execution_count": 17,
     "metadata": {},
     "output_type": "execute_result"
    }
   ],
   "source": [
    "jem_atac.obs['sample'].value_counts()"
   ]
  },
  {
   "cell_type": "code",
   "execution_count": 23,
   "metadata": {},
   "outputs": [
    {
     "name": "stderr",
     "output_type": "stream",
     "text": [
      "/mnt/hdd/chaozhong/pylib/site-packages/scanpy/preprocessing/_normalization.py:138: UserWarning: Revieved a view of an AnnData. Making a copy.\n",
      "  view_to_actual(adata)\n"
     ]
    }
   ],
   "source": [
    "#jem_rna.X = jem_rna.layers['matrix']\n",
    "sc.pp.normalize_total(jem_rna, target_sum=1e6)\n",
    "sc.pp.log1p(jem_rna)\n",
    "#sc.pp.scale(anndat_atac_act, max_value=10)"
   ]
  },
  {
   "cell_type": "code",
   "execution_count": 24,
   "metadata": {},
   "outputs": [
    {
     "name": "stderr",
     "output_type": "stream",
     "text": [
      "... storing 'sample' as categorical\n"
     ]
    }
   ],
   "source": [
    "jem_rna.write_h5ad('JEM_GEX.h5ad')"
   ]
  },
  {
   "cell_type": "code",
   "execution_count": null,
   "metadata": {},
   "outputs": [],
   "source": []
  }
 ],
 "metadata": {
  "kernelspec": {
   "display_name": "Python 3",
   "language": "python",
   "name": "python3"
  },
  "language_info": {
   "codemirror_mode": {
    "name": "ipython",
    "version": 3
   },
   "file_extension": ".py",
   "mimetype": "text/x-python",
   "name": "python",
   "nbconvert_exporter": "python",
   "pygments_lexer": "ipython3",
   "version": "3.6.13"
  }
 },
 "nbformat": 4,
 "nbformat_minor": 2
}
