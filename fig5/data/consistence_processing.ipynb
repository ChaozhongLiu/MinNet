{
 "cells": [
  {
   "cell_type": "code",
   "execution_count": 1,
   "metadata": {},
   "outputs": [
    {
     "name": "stderr",
     "output_type": "stream",
     "text": [
      "/usr/local/lib/python3.6/dist-packages/dask/config.py:168: YAMLLoadWarning: calling yaml.load() without Loader=... is deprecated, as the default Loader is unsafe. Please read https://msg.pyyaml.org/load for full details.\n",
      "  data = yaml.load(f.read()) or {}\n"
     ]
    }
   ],
   "source": [
    "import anndata as ad\n",
    "import pandas as pd\n",
    "import numpy as np\n",
    "import scanpy as sc"
   ]
  },
  {
   "cell_type": "code",
   "execution_count": 2,
   "metadata": {},
   "outputs": [],
   "source": [
    "jem_rna = ad.read_h5ad('scRNA/JEM_GEX.h5ad')\n",
    "jem_atac = ad.read_h5ad('scATAC/JEM_ATAC.act.h5ad')"
   ]
  },
  {
   "cell_type": "code",
   "execution_count": 3,
   "metadata": {},
   "outputs": [],
   "source": [
    "cell_type_list = ['CD14 Monocyte','NK','CD8m T','CD4m T',\n",
    "                  'B','CD4n T','IgG PB','IgA PB','CD16 Monocyte',\n",
    "                  'CD4 T', 'CD8eff T', 'gd T', 'pDC']\n"
   ]
  },
  {
   "cell_type": "code",
   "execution_count": 4,
   "metadata": {},
   "outputs": [],
   "source": [
    "jem_rna = jem_rna[jem_rna.obs['cell_type_fine'].isin(cell_type_list)]"
   ]
  },
  {
   "cell_type": "code",
   "execution_count": 5,
   "metadata": {},
   "outputs": [
    {
     "name": "stderr",
     "output_type": "stream",
     "text": [
      "Trying to set attribute `.obs` of view, copying.\n"
     ]
    }
   ],
   "source": [
    "jem_rna.obs['cell_type'] = jem_rna.obs['cell_type_fine'].astype(str)"
   ]
  },
  {
   "cell_type": "code",
   "execution_count": 6,
   "metadata": {},
   "outputs": [],
   "source": [
    "jem_rna.obs.loc[jem_rna.obs['cell_type'] == 'CD14 Monocyte','cell_type'] = 'CD14 Mono'\n",
    "jem_rna.obs.loc[jem_rna.obs['cell_type'] == 'IgG PB','cell_type'] = 'Plasmablast'\n",
    "jem_rna.obs.loc[jem_rna.obs['cell_type'] == 'IgA PB','cell_type'] = 'Plasmablast'\n",
    "jem_rna.obs.loc[jem_rna.obs['cell_type'] == 'CD16 Monocyte','cell_type'] = 'CD16 Mono'\n",
    "jem_rna.obs.loc[jem_rna.obs['cell_type'] == 'gd T','cell_type'] = 'gdT'\n",
    "jem_rna.obs.loc[jem_rna.obs['cell_type'] == 'B','cell_type'] = 'B Cell'\n",
    "\n",
    "jem_rna.obs.loc[jem_rna.obs['cell_type'] == 'CD8m T','cell_type'] = 'CD8 T'\n",
    "jem_rna.obs.loc[jem_rna.obs['cell_type'] == 'CD8eff T','cell_type'] = 'CD8 T'\n",
    "\n",
    "jem_rna.obs.loc[jem_rna.obs['cell_type'] == 'CD4m T','cell_type'] = 'CD4 T'\n",
    "jem_rna.obs.loc[jem_rna.obs['cell_type'] == 'CD4n T','cell_type'] = 'CD4 Naive'\n",
    "jem_rna.obs.loc[jem_rna.obs['cell_type'] == 'CD4 T','cell_type'] = 'CD4 T'\n"
   ]
  },
  {
   "cell_type": "code",
   "execution_count": 7,
   "metadata": {},
   "outputs": [
    {
     "data": {
      "text/plain": [
       "CD14 Mono      5645\n",
       "NK             5414\n",
       "CD8 T          3721\n",
       "CD4 T          2753\n",
       "B Cell         2180\n",
       "CD4 Naive      1735\n",
       "Plasmablast    1670\n",
       "CD16 Mono       778\n",
       "gdT             168\n",
       "pDC             136\n",
       "Name: cell_type, dtype: int64"
      ]
     },
     "execution_count": 7,
     "metadata": {},
     "output_type": "execute_result"
    }
   ],
   "source": [
    "jem_rna.obs['cell_type'].value_counts()"
   ]
  },
  {
   "cell_type": "code",
   "execution_count": 8,
   "metadata": {},
   "outputs": [
    {
     "name": "stderr",
     "output_type": "stream",
     "text": [
      "Trying to set attribute `.obs` of view, copying.\n"
     ]
    }
   ],
   "source": [
    "jem_atac = jem_atac[~jem_atac.obs['cell_type'].isin(['cDC2'])]\n",
    "jem_atac.obs['cell_type_fine'] = jem_atac.obs['cell_type'].copy()\n",
    "jem_atac.obs['cell_type'] = jem_atac.obs['cell_type'].astype(str)\n",
    "\n",
    "jem_atac.obs.loc[jem_atac.obs['cell_type'] == 'CD8 TEM','cell_type'] = 'CD8 T'\n",
    "jem_atac.obs.loc[jem_atac.obs['cell_type'] == 'CD8 TCM','cell_type'] = 'CD8 T'\n",
    "jem_atac.obs.loc[jem_atac.obs['cell_type'] == 'CD8 Naive','cell_type'] = 'CD8 T'\n",
    "\n",
    "jem_atac.obs.loc[jem_atac.obs['cell_type'] == 'CD4 TCM','cell_type'] = 'CD4 T'\n",
    "jem_atac.obs.loc[jem_atac.obs['cell_type'] == 'CD4 TEM','cell_type'] = 'CD4 T'\n",
    "jem_atac.obs.loc[jem_atac.obs['cell_type'] == 'CD4 CTL','cell_type'] = 'CD4 T'\n",
    "\n",
    "jem_atac.obs.loc[jem_atac.obs['cell_type'] == 'B memory','cell_type'] = 'B Cell'\n",
    "jem_atac.obs.loc[jem_atac.obs['cell_type'] == 'B naive','cell_type'] = 'B Cell'\n",
    "jem_atac.obs.loc[jem_atac.obs['cell_type'] == 'B immature','cell_type'] = 'B Cell'\n",
    "jem_atac.obs.loc[jem_atac.obs['cell_type'] == 'NK_CD56','cell_type'] = 'NK'\n",
    "jem_atac.obs.loc[jem_atac.obs['cell_type'] == 'NK_CD56','cell_type'] = 'NK'\n"
   ]
  },
  {
   "cell_type": "code",
   "execution_count": 9,
   "metadata": {},
   "outputs": [
    {
     "data": {
      "text/plain": [
       "CD8 T          2624\n",
       "NK             2518\n",
       "CD14 Mono      1672\n",
       "B Cell         1060\n",
       "CD4 Naive       769\n",
       "CD4 T           725\n",
       "CD16 Mono       495\n",
       "gdT             200\n",
       "Plasmablast      83\n",
       "pDC              19\n",
       "MAIT             17\n",
       "Treg             15\n",
       "HSPC             13\n",
       "Name: cell_type, dtype: int64"
      ]
     },
     "execution_count": 9,
     "metadata": {},
     "output_type": "execute_result"
    }
   ],
   "source": [
    "jem_atac.obs['cell_type'].value_counts()"
   ]
  },
  {
   "cell_type": "code",
   "execution_count": 10,
   "metadata": {},
   "outputs": [],
   "source": [
    "jem_rna.obs['sample'] = jem_rna.obs['sample'].str.replace('covid_','')"
   ]
  },
  {
   "cell_type": "code",
   "execution_count": 11,
   "metadata": {},
   "outputs": [],
   "source": [
    "jem_atac.obs['sample'] = jem_atac.obs['sample'].str.replace('ATAC_','')"
   ]
  },
  {
   "cell_type": "code",
   "execution_count": 12,
   "metadata": {},
   "outputs": [],
   "source": [
    "jem_rna.obs['current_severity_bin'] = '0'\n",
    "jem_rna.obs.loc[jem_rna.obs['sample'].isin(['555_1','556','559']),'current_severity_bin'] = '4-5'\n",
    "jem_rna.obs.loc[jem_rna.obs['sample'].isin(['555_2','558']),'current_severity_bin'] = '6-7'\n",
    "\n"
   ]
  },
  {
   "cell_type": "code",
   "execution_count": 13,
   "metadata": {},
   "outputs": [
    {
     "data": {
      "text/plain": [
       "current_severity_bin  sample\n",
       "0                     HIP043    5073\n",
       "6-7                   555_2     4672\n",
       "4-5                   555_1     3163\n",
       "0                     HIP044    3033\n",
       "6-7                   558       2545\n",
       "4-5                   559       2243\n",
       "0                     HIP045    1839\n",
       "4-5                   556       1632\n",
       "dtype: int64"
      ]
     },
     "execution_count": 13,
     "metadata": {},
     "output_type": "execute_result"
    }
   ],
   "source": [
    "jem_rna.obs[['current_severity_bin','sample']].value_counts()"
   ]
  },
  {
   "cell_type": "code",
   "execution_count": 14,
   "metadata": {},
   "outputs": [
    {
     "name": "stderr",
     "output_type": "stream",
     "text": [
      "... storing 'sample' as categorical\n",
      "... storing 'cell_type' as categorical\n",
      "... storing 'current_severity_bin' as categorical\n",
      "... storing 'sample' as categorical\n",
      "... storing 'cell_type' as categorical\n"
     ]
    }
   ],
   "source": [
    "jem_rna.write_h5ad('JEM_GEX.h5ad')\n",
    "jem_atac.write_h5ad('JEM_ATAC.h5ad')\n"
   ]
  },
  {
   "cell_type": "code",
   "execution_count": null,
   "metadata": {},
   "outputs": [],
   "source": []
  },
  {
   "cell_type": "code",
   "execution_count": 2,
   "metadata": {},
   "outputs": [],
   "source": [
    "jem_rna = ad.read_h5ad('JEM_GEX.h5ad')\n",
    "jem_atac = ad.read_h5ad('JEM_ATAC.h5ad')\n"
   ]
  },
  {
   "cell_type": "code",
   "execution_count": 3,
   "metadata": {},
   "outputs": [],
   "source": [
    "rna_meta = jem_rna.obs\n",
    "rna_meta = rna_meta.loc[:,['sample','cell_type','current_severity_bin','cell_type_fine']]"
   ]
  },
  {
   "cell_type": "code",
   "execution_count": 4,
   "metadata": {},
   "outputs": [],
   "source": [
    "atac_meta = jem_atac.obs"
   ]
  },
  {
   "cell_type": "code",
   "execution_count": 13,
   "metadata": {},
   "outputs": [],
   "source": [
    "meta = pd.concat([rna_meta,atac_meta])"
   ]
  },
  {
   "cell_type": "code",
   "execution_count": 7,
   "metadata": {},
   "outputs": [],
   "source": [
    "atac_meta.to_csv('JEM_ATAC_meta.consistent.csv')"
   ]
  },
  {
   "cell_type": "code",
   "execution_count": 8,
   "metadata": {},
   "outputs": [],
   "source": [
    "rna_meta.to_csv('JEM_GEX_meta.consistent.csv')"
   ]
  },
  {
   "cell_type": "code",
   "execution_count": null,
   "metadata": {},
   "outputs": [],
   "source": [
    "meta = pd.concat([rna_meta,atac_meta])\n",
    "meta.to_csv('JEM_meta.csv')"
   ]
  },
  {
   "cell_type": "code",
   "execution_count": null,
   "metadata": {},
   "outputs": [],
   "source": []
  }
 ],
 "metadata": {
  "kernelspec": {
   "display_name": "Python 3",
   "language": "python",
   "name": "python3"
  },
  "language_info": {
   "codemirror_mode": {
    "name": "ipython",
    "version": 3
   },
   "file_extension": ".py",
   "mimetype": "text/x-python",
   "name": "python",
   "nbconvert_exporter": "python",
   "pygments_lexer": "ipython3",
   "version": "3.6.13"
  }
 },
 "nbformat": 4,
 "nbformat_minor": 2
}
