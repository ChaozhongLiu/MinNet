{
 "cells": [
  {
   "cell_type": "code",
   "execution_count": 1,
   "metadata": {},
   "outputs": [
    {
     "name": "stderr",
     "output_type": "stream",
     "text": [
      "/usr/local/lib/python3.6/dist-packages/dask/config.py:168: YAMLLoadWarning: calling yaml.load() without Loader=... is deprecated, as the default Loader is unsafe. Please read https://msg.pyyaml.org/load for full details.\n",
      "  data = yaml.load(f.read()) or {}\n"
     ]
    }
   ],
   "source": [
    "import h5py\n",
    "import os\n",
    "import numpy as np\n",
    "import pandas as pd\n",
    "import anndata as ad\n",
    "import scanpy as sc\n"
   ]
  },
  {
   "cell_type": "markdown",
   "metadata": {},
   "source": [
    "### Set up h5ad file"
   ]
  },
  {
   "cell_type": "code",
   "execution_count": 2,
   "metadata": {},
   "outputs": [],
   "source": [
    "hf = h5py.File('raw/activity_mtx/merge.h5', 'r')\n",
    "        \n",
    "key_list = list(hf.keys())\n",
    "atac_key = []\n",
    "act_key = []\n",
    "for i in range(len(key_list)):\n",
    "    if key_list[i].startswith('peak'):\n",
    "        atac_key.append(key_list[i])\n",
    "    if key_list[i].startswith('ACT'):\n",
    "        act_key.append(key_list[i])\n",
    "\n",
    "\n",
    "peaks_mtx = hf.get(atac_key[0])\n",
    "peaks_mtx = np.array(peaks_mtx)\n",
    "for index in atac_key[1:]:\n",
    "    Y2 = hf.get(index)\n",
    "    Y2 = np.array(Y2)\n",
    "    peaks_mtx = np.concatenate((peaks_mtx, Y2), axis=0)\n",
    "\n",
    "act_mtx = hf.get(act_key[0])\n",
    "act_mtx = np.array(act_mtx)\n",
    "for index in act_key[1:]:\n",
    "    Y2 = hf.get(index)\n",
    "    Y2 = np.array(Y2)\n",
    "    act_mtx = np.concatenate((act_mtx, Y2), axis=0)\n"
   ]
  },
  {
   "cell_type": "code",
   "execution_count": 3,
   "metadata": {},
   "outputs": [
    {
     "data": {
      "text/plain": [
       "(25522, 60587)"
      ]
     },
     "execution_count": 3,
     "metadata": {},
     "output_type": "execute_result"
    }
   ],
   "source": [
    "peaks_mtx.shape"
   ]
  },
  {
   "cell_type": "code",
   "execution_count": 4,
   "metadata": {},
   "outputs": [
    {
     "data": {
      "text/plain": [
       "(25522, 23181)"
      ]
     },
     "execution_count": 4,
     "metadata": {},
     "output_type": "execute_result"
    }
   ],
   "source": [
    "act_mtx.shape"
   ]
  },
  {
   "cell_type": "code",
   "execution_count": 5,
   "metadata": {},
   "outputs": [],
   "source": [
    "peaks_name = pd.read_csv('raw/peaks_index.txt',header=None).iloc[:,0].to_numpy()\n",
    "genes_name = pd.read_csv('raw/genes_index.txt',header=None).iloc[:,0].to_numpy()\n",
    "cells_name = pd.read_csv('raw/cells_index.txt',header=None).iloc[:,0].to_numpy()"
   ]
  },
  {
   "cell_type": "code",
   "execution_count": 6,
   "metadata": {},
   "outputs": [],
   "source": [
    "anndat_atac_act = ad.AnnData(\n",
    "    X = act_mtx,\n",
    ")\n",
    "anndat_atac_peak = ad.AnnData(\n",
    "    X = peaks_mtx,\n",
    ")\n",
    "anndat_atac_act.obs_names = cells_name\n",
    "anndat_atac_act.var_names = genes_name\n",
    "anndat_atac_peak.obs_names = cells_name\n",
    "anndat_atac_peak.var_names = peaks_name\n",
    "\n"
   ]
  },
  {
   "cell_type": "code",
   "execution_count": 7,
   "metadata": {},
   "outputs": [
    {
     "data": {
      "text/plain": [
       "True"
      ]
     },
     "execution_count": 7,
     "metadata": {},
     "output_type": "execute_result"
    }
   ],
   "source": [
    "np.all(anndat_atac_peak.obs.index == anndat_atac_act.obs.index)"
   ]
  },
  {
   "cell_type": "code",
   "execution_count": 8,
   "metadata": {},
   "outputs": [],
   "source": [
    "anndat_atac_peak.write_h5ad('JEM_ATAC.peaks.h5ad')\n",
    "anndat_atac_act.write_h5ad('JEM_ATAC.act.h5ad')"
   ]
  },
  {
   "cell_type": "code",
   "execution_count": null,
   "metadata": {},
   "outputs": [],
   "source": []
  },
  {
   "cell_type": "markdown",
   "metadata": {},
   "source": [
    "### Add meta data"
   ]
  },
  {
   "cell_type": "code",
   "execution_count": 2,
   "metadata": {},
   "outputs": [],
   "source": [
    "anndat_atac_peak = ad.read_h5ad('JEM_ATAC.peaks.h5ad')\n",
    "anndat_atac_act = ad.read_h5ad('JEM_ATAC.act.h5ad')\n",
    "meta = pd.read_csv('atac_cell_metadata.csv')"
   ]
  },
  {
   "cell_type": "code",
   "execution_count": 3,
   "metadata": {},
   "outputs": [],
   "source": [
    "anndat_atac_peak.obs_names = 'ATAC_' + anndat_atac_peak.obs_names\n",
    "anndat_atac_act.obs_names = 'ATAC_' + anndat_atac_act.obs_names"
   ]
  },
  {
   "cell_type": "code",
   "execution_count": 4,
   "metadata": {},
   "outputs": [],
   "source": [
    "cell_ids = np.intersect1d(anndat_atac_peak.obs_names.to_numpy(), meta['cell_id'].to_numpy())"
   ]
  },
  {
   "cell_type": "code",
   "execution_count": 5,
   "metadata": {},
   "outputs": [],
   "source": [
    "anndat_atac_peak = anndat_atac_peak[cell_ids,]\n",
    "anndat_atac_act = anndat_atac_act[cell_ids,]\n"
   ]
  },
  {
   "cell_type": "code",
   "execution_count": 6,
   "metadata": {},
   "outputs": [],
   "source": [
    "meta.index = meta['cell_id']\n",
    "meta = meta.loc[cell_ids,:]"
   ]
  },
  {
   "cell_type": "code",
   "execution_count": 7,
   "metadata": {},
   "outputs": [
    {
     "data": {
      "text/html": [
       "<div>\n",
       "<style scoped>\n",
       "    .dataframe tbody tr th:only-of-type {\n",
       "        vertical-align: middle;\n",
       "    }\n",
       "\n",
       "    .dataframe tbody tr th {\n",
       "        vertical-align: top;\n",
       "    }\n",
       "\n",
       "    .dataframe thead th {\n",
       "        text-align: right;\n",
       "    }\n",
       "</style>\n",
       "<table border=\"1\" class=\"dataframe\">\n",
       "  <thead>\n",
       "    <tr style=\"text-align: right;\">\n",
       "      <th></th>\n",
       "      <th>Sample</th>\n",
       "      <th>cell_id</th>\n",
       "      <th>cell_type</th>\n",
       "      <th>current_severity_bin</th>\n",
       "      <th>is_doublet</th>\n",
       "      <th>UMAP1</th>\n",
       "      <th>UMAP2</th>\n",
       "    </tr>\n",
       "    <tr>\n",
       "      <th>cell_id</th>\n",
       "      <th></th>\n",
       "      <th></th>\n",
       "      <th></th>\n",
       "      <th></th>\n",
       "      <th></th>\n",
       "      <th></th>\n",
       "      <th></th>\n",
       "    </tr>\n",
       "  </thead>\n",
       "  <tbody>\n",
       "    <tr>\n",
       "      <th>ATAC_555_1#AAACGAATCGTCCCAT-1</th>\n",
       "      <td>ATAC_555_1</td>\n",
       "      <td>ATAC_555_1#AAACGAATCGTCCCAT-1</td>\n",
       "      <td>CD14 Mono</td>\n",
       "      <td>4-5</td>\n",
       "      <td>False</td>\n",
       "      <td>-12.066025</td>\n",
       "      <td>-3.170494</td>\n",
       "    </tr>\n",
       "    <tr>\n",
       "      <th>ATAC_555_1#AAACTCGGTGGTTCTA-1</th>\n",
       "      <td>ATAC_555_1</td>\n",
       "      <td>ATAC_555_1#AAACTCGGTGGTTCTA-1</td>\n",
       "      <td>CD14 Mono</td>\n",
       "      <td>4-5</td>\n",
       "      <td>False</td>\n",
       "      <td>-13.042558</td>\n",
       "      <td>-1.140425</td>\n",
       "    </tr>\n",
       "    <tr>\n",
       "      <th>ATAC_555_1#AAACTGCTCGGTTGTA-1</th>\n",
       "      <td>ATAC_555_1</td>\n",
       "      <td>ATAC_555_1#AAACTGCTCGGTTGTA-1</td>\n",
       "      <td>CD14 Mono</td>\n",
       "      <td>4-5</td>\n",
       "      <td>False</td>\n",
       "      <td>-11.194732</td>\n",
       "      <td>-3.347949</td>\n",
       "    </tr>\n",
       "    <tr>\n",
       "      <th>ATAC_555_1#AAAGATGCATCGGCTG-1</th>\n",
       "      <td>ATAC_555_1</td>\n",
       "      <td>ATAC_555_1#AAAGATGCATCGGCTG-1</td>\n",
       "      <td>CD8 TEM</td>\n",
       "      <td>4-5</td>\n",
       "      <td>False</td>\n",
       "      <td>8.443998</td>\n",
       "      <td>4.560493</td>\n",
       "    </tr>\n",
       "    <tr>\n",
       "      <th>ATAC_555_1#AAAGATGGTACTATGC-1</th>\n",
       "      <td>ATAC_555_1</td>\n",
       "      <td>ATAC_555_1#AAAGATGGTACTATGC-1</td>\n",
       "      <td>CD4 TCM</td>\n",
       "      <td>4-5</td>\n",
       "      <td>False</td>\n",
       "      <td>8.428380</td>\n",
       "      <td>-0.713068</td>\n",
       "    </tr>\n",
       "    <tr>\n",
       "      <th>...</th>\n",
       "      <td>...</td>\n",
       "      <td>...</td>\n",
       "      <td>...</td>\n",
       "      <td>...</td>\n",
       "      <td>...</td>\n",
       "      <td>...</td>\n",
       "      <td>...</td>\n",
       "    </tr>\n",
       "    <tr>\n",
       "      <th>ATAC_HIP045#TTGTTGTTCTGTAGAC-1</th>\n",
       "      <td>ATAC_HIP045</td>\n",
       "      <td>ATAC_HIP045#TTGTTGTTCTGTAGAC-1</td>\n",
       "      <td>CD8 TEM</td>\n",
       "      <td>0</td>\n",
       "      <td>False</td>\n",
       "      <td>8.049340</td>\n",
       "      <td>3.950382</td>\n",
       "    </tr>\n",
       "    <tr>\n",
       "      <th>ATAC_HIP045#TTTACGTAGACCATAA-1</th>\n",
       "      <td>ATAC_HIP045</td>\n",
       "      <td>ATAC_HIP045#TTTACGTAGACCATAA-1</td>\n",
       "      <td>B naive</td>\n",
       "      <td>0</td>\n",
       "      <td>False</td>\n",
       "      <td>1.007606</td>\n",
       "      <td>-8.486456</td>\n",
       "    </tr>\n",
       "    <tr>\n",
       "      <th>ATAC_HIP045#TTTACGTTCGCCACTT-1</th>\n",
       "      <td>ATAC_HIP045</td>\n",
       "      <td>ATAC_HIP045#TTTACGTTCGCCACTT-1</td>\n",
       "      <td>CD4 TCM</td>\n",
       "      <td>0</td>\n",
       "      <td>False</td>\n",
       "      <td>8.048807</td>\n",
       "      <td>-0.918113</td>\n",
       "    </tr>\n",
       "    <tr>\n",
       "      <th>ATAC_HIP045#TTTGGTTGTGCCCAGT-1</th>\n",
       "      <td>ATAC_HIP045</td>\n",
       "      <td>ATAC_HIP045#TTTGGTTGTGCCCAGT-1</td>\n",
       "      <td>CD8 TEM</td>\n",
       "      <td>0</td>\n",
       "      <td>True</td>\n",
       "      <td>5.913862</td>\n",
       "      <td>2.662103</td>\n",
       "    </tr>\n",
       "    <tr>\n",
       "      <th>ATAC_HIP045#TTTGTGTCACTCCTCA-1</th>\n",
       "      <td>ATAC_HIP045</td>\n",
       "      <td>ATAC_HIP045#TTTGTGTCACTCCTCA-1</td>\n",
       "      <td>B naive</td>\n",
       "      <td>0</td>\n",
       "      <td>False</td>\n",
       "      <td>1.427328</td>\n",
       "      <td>-8.668266</td>\n",
       "    </tr>\n",
       "  </tbody>\n",
       "</table>\n",
       "<p>10238 rows × 7 columns</p>\n",
       "</div>"
      ],
      "text/plain": [
       "                                     Sample                         cell_id  \\\n",
       "cell_id                                                                       \n",
       "ATAC_555_1#AAACGAATCGTCCCAT-1    ATAC_555_1   ATAC_555_1#AAACGAATCGTCCCAT-1   \n",
       "ATAC_555_1#AAACTCGGTGGTTCTA-1    ATAC_555_1   ATAC_555_1#AAACTCGGTGGTTCTA-1   \n",
       "ATAC_555_1#AAACTGCTCGGTTGTA-1    ATAC_555_1   ATAC_555_1#AAACTGCTCGGTTGTA-1   \n",
       "ATAC_555_1#AAAGATGCATCGGCTG-1    ATAC_555_1   ATAC_555_1#AAAGATGCATCGGCTG-1   \n",
       "ATAC_555_1#AAAGATGGTACTATGC-1    ATAC_555_1   ATAC_555_1#AAAGATGGTACTATGC-1   \n",
       "...                                     ...                             ...   \n",
       "ATAC_HIP045#TTGTTGTTCTGTAGAC-1  ATAC_HIP045  ATAC_HIP045#TTGTTGTTCTGTAGAC-1   \n",
       "ATAC_HIP045#TTTACGTAGACCATAA-1  ATAC_HIP045  ATAC_HIP045#TTTACGTAGACCATAA-1   \n",
       "ATAC_HIP045#TTTACGTTCGCCACTT-1  ATAC_HIP045  ATAC_HIP045#TTTACGTTCGCCACTT-1   \n",
       "ATAC_HIP045#TTTGGTTGTGCCCAGT-1  ATAC_HIP045  ATAC_HIP045#TTTGGTTGTGCCCAGT-1   \n",
       "ATAC_HIP045#TTTGTGTCACTCCTCA-1  ATAC_HIP045  ATAC_HIP045#TTTGTGTCACTCCTCA-1   \n",
       "\n",
       "                                cell_type current_severity_bin  is_doublet  \\\n",
       "cell_id                                                                      \n",
       "ATAC_555_1#AAACGAATCGTCCCAT-1   CD14 Mono                  4-5       False   \n",
       "ATAC_555_1#AAACTCGGTGGTTCTA-1   CD14 Mono                  4-5       False   \n",
       "ATAC_555_1#AAACTGCTCGGTTGTA-1   CD14 Mono                  4-5       False   \n",
       "ATAC_555_1#AAAGATGCATCGGCTG-1     CD8 TEM                  4-5       False   \n",
       "ATAC_555_1#AAAGATGGTACTATGC-1     CD4 TCM                  4-5       False   \n",
       "...                                   ...                  ...         ...   \n",
       "ATAC_HIP045#TTGTTGTTCTGTAGAC-1    CD8 TEM                    0       False   \n",
       "ATAC_HIP045#TTTACGTAGACCATAA-1    B naive                    0       False   \n",
       "ATAC_HIP045#TTTACGTTCGCCACTT-1    CD4 TCM                    0       False   \n",
       "ATAC_HIP045#TTTGGTTGTGCCCAGT-1    CD8 TEM                    0        True   \n",
       "ATAC_HIP045#TTTGTGTCACTCCTCA-1    B naive                    0       False   \n",
       "\n",
       "                                    UMAP1     UMAP2  \n",
       "cell_id                                              \n",
       "ATAC_555_1#AAACGAATCGTCCCAT-1  -12.066025 -3.170494  \n",
       "ATAC_555_1#AAACTCGGTGGTTCTA-1  -13.042558 -1.140425  \n",
       "ATAC_555_1#AAACTGCTCGGTTGTA-1  -11.194732 -3.347949  \n",
       "ATAC_555_1#AAAGATGCATCGGCTG-1    8.443998  4.560493  \n",
       "ATAC_555_1#AAAGATGGTACTATGC-1    8.428380 -0.713068  \n",
       "...                                   ...       ...  \n",
       "ATAC_HIP045#TTGTTGTTCTGTAGAC-1   8.049340  3.950382  \n",
       "ATAC_HIP045#TTTACGTAGACCATAA-1   1.007606 -8.486456  \n",
       "ATAC_HIP045#TTTACGTTCGCCACTT-1   8.048807 -0.918113  \n",
       "ATAC_HIP045#TTTGGTTGTGCCCAGT-1   5.913862  2.662103  \n",
       "ATAC_HIP045#TTTGTGTCACTCCTCA-1   1.427328 -8.668266  \n",
       "\n",
       "[10238 rows x 7 columns]"
      ]
     },
     "execution_count": 7,
     "metadata": {},
     "output_type": "execute_result"
    }
   ],
   "source": [
    "meta"
   ]
  },
  {
   "cell_type": "code",
   "execution_count": 9,
   "metadata": {},
   "outputs": [
    {
     "name": "stderr",
     "output_type": "stream",
     "text": [
      "Trying to set attribute `.obs` of view, copying.\n",
      "Trying to set attribute `.obs` of view, copying.\n"
     ]
    }
   ],
   "source": [
    "anndat_atac_peak.obs['sample'] = meta['Sample'].to_numpy()\n",
    "anndat_atac_act.obs['sample'] = meta['Sample'].to_numpy()\n",
    "\n",
    "anndat_atac_peak.obs['cell_type'] = meta['cell_type'].to_numpy()\n",
    "anndat_atac_act.obs['cell_type'] = meta['cell_type'].to_numpy()\n",
    "\n",
    "anndat_atac_peak.obs['current_severity_bin'] = meta['current_severity_bin'].to_numpy()\n",
    "anndat_atac_act.obs['current_severity_bin'] = meta['current_severity_bin'].to_numpy()"
   ]
  },
  {
   "cell_type": "code",
   "execution_count": 10,
   "metadata": {},
   "outputs": [
    {
     "data": {
      "text/plain": [
       "0      6341\n",
       "4-5    2119\n",
       "6-7    1778\n",
       "Name: current_severity_bin, dtype: int64"
      ]
     },
     "execution_count": 10,
     "metadata": {},
     "output_type": "execute_result"
    }
   ],
   "source": [
    "anndat_atac_peak.obs['current_severity_bin'].value_counts()"
   ]
  },
  {
   "cell_type": "code",
   "execution_count": 11,
   "metadata": {},
   "outputs": [
    {
     "data": {
      "text/plain": [
       "True"
      ]
     },
     "execution_count": 11,
     "metadata": {},
     "output_type": "execute_result"
    }
   ],
   "source": [
    "np.all(anndat_atac_act.obs_names == meta.index)"
   ]
  },
  {
   "cell_type": "code",
   "execution_count": 12,
   "metadata": {},
   "outputs": [],
   "source": [
    "anndat_atac_act.layers['counts'] = anndat_atac_act.X.copy()\n",
    "sc.pp.normalize_total(anndat_atac_act, target_sum=1e6)\n",
    "sc.pp.log1p(anndat_atac_act)\n",
    "#sc.pp.scale(anndat_atac_act, max_value=10)"
   ]
  },
  {
   "cell_type": "code",
   "execution_count": 13,
   "metadata": {},
   "outputs": [
    {
     "name": "stderr",
     "output_type": "stream",
     "text": [
      "... storing 'sample' as categorical\n",
      "... storing 'cell_type' as categorical\n",
      "... storing 'current_severity_bin' as categorical\n",
      "... storing 'sample' as categorical\n",
      "... storing 'cell_type' as categorical\n",
      "... storing 'current_severity_bin' as categorical\n"
     ]
    }
   ],
   "source": [
    "anndat_atac_act.write_h5ad('JEM_ATAC.act.2.h5ad')\n",
    "anndat_atac_peak.write_h5ad('JEM_ATAC.peaks.2.h5ad')"
   ]
  },
  {
   "cell_type": "code",
   "execution_count": null,
   "metadata": {},
   "outputs": [],
   "source": []
  }
 ],
 "metadata": {
  "kernelspec": {
   "display_name": "Python 3",
   "language": "python",
   "name": "python3"
  },
  "language_info": {
   "codemirror_mode": {
    "name": "ipython",
    "version": 3
   },
   "file_extension": ".py",
   "mimetype": "text/x-python",
   "name": "python",
   "nbconvert_exporter": "python",
   "pygments_lexer": "ipython3",
   "version": "3.6.13"
  }
 },
 "nbformat": 4,
 "nbformat_minor": 2
}
