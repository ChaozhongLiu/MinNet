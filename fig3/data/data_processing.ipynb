{
 "cells": [
  {
   "cell_type": "code",
   "execution_count": 1,
   "metadata": {},
   "outputs": [
    {
     "name": "stderr",
     "output_type": "stream",
     "text": [
      "/usr/local/lib/python3.6/dist-packages/dask/config.py:168: YAMLLoadWarning: calling yaml.load() without Loader=... is deprecated, as the default Loader is unsafe. Please read https://msg.pyyaml.org/load for full details.\n",
      "  data = yaml.load(f.read()) or {}\n",
      "/usr/local/lib/python3.6/dist-packages/statsmodels/tools/_testing.py:19: FutureWarning: pandas.util.testing is deprecated. Use the functions in the public API at pandas.testing instead.\n",
      "  import pandas.util.testing as tm\n"
     ]
    }
   ],
   "source": [
    "import logging\n",
    "import anndata as ad\n",
    "import numpy as np\n",
    "import scipy as sp\n",
    "import pandas as pd\n",
    "import seaborn as sns\n",
    "import sys\n",
    "import torch\n",
    "import os\n",
    "import matplotlib.pyplot as plt"
   ]
  },
  {
   "cell_type": "code",
   "execution_count": 5,
   "metadata": {},
   "outputs": [],
   "source": [
    "mod1_test1 = ad.read_h5ad('../../fig2/BMMC_data/data/Multiome_GEX.test.h5ad')\n",
    "mod2_test1 = ad.read_h5ad('../../fig2/BMMC_data/data/Multiome_ATAC.test.h5ad')\n",
    "\n",
    "mod1_test2 = ad.read_h5ad('../../fig2/BMMC_test/data/Multiome_GEX.test.h5ad')\n",
    "mod2_test2 = ad.read_h5ad('../../fig2/BMMC_test/data/Multiome_ATAC.test.h5ad')\n"
   ]
  },
  {
   "cell_type": "code",
   "execution_count": 8,
   "metadata": {},
   "outputs": [],
   "source": [
    "mod1_s1d2 = mod1_test1[mod1_test1.obs['batch']=='s1d2'].copy()\n",
    "mod2_s1d2 = mod2_test1[mod2_test1.obs['batch']=='s1d2'].copy()\n",
    "\n",
    "mod1_s3d7 = mod1_test1[mod1_test1.obs['batch']=='s3d7'].copy()\n",
    "mod2_s3d7 = mod2_test1[mod2_test1.obs['batch']=='s3d7'].copy()\n",
    "\n",
    "mod1_s4d1 = mod1_test2[mod1_test2.obs['batch']=='s4d1'].copy()\n",
    "mod2_s4d1 = mod2_test2[mod2_test2.obs['batch']=='s4d1'].copy()"
   ]
  },
  {
   "cell_type": "code",
   "execution_count": 14,
   "metadata": {},
   "outputs": [],
   "source": [
    "mod1_s1d2.write_h5ad('data/Multiome_GEX.s1d2.h5ad')\n",
    "mod2_s1d2.write_h5ad('data/Multiome_ATAC.s1d2.h5ad')\n",
    "mod1_s3d7.write_h5ad('data/Multiome_GEX.s3d7.h5ad')\n",
    "mod2_s3d7.write_h5ad('data/Multiome_ATAC.s3d7.h5ad')\n",
    "mod1_s4d1.write_h5ad('data/Multiome_GEX.s4d1.h5ad')\n",
    "mod2_s4d1.write_h5ad('data/Multiome_ATAC.s4d1.h5ad')"
   ]
  },
  {
   "cell_type": "code",
   "execution_count": null,
   "metadata": {},
   "outputs": [],
   "source": []
  }
 ],
 "metadata": {
  "kernelspec": {
   "display_name": "Python 3",
   "language": "python",
   "name": "python3"
  },
  "language_info": {
   "codemirror_mode": {
    "name": "ipython",
    "version": 3
   },
   "file_extension": ".py",
   "mimetype": "text/x-python",
   "name": "python",
   "nbconvert_exporter": "python",
   "pygments_lexer": "ipython3",
   "version": "3.6.13"
  }
 },
 "nbformat": 4,
 "nbformat_minor": 2
}
