{
 "cells": [
  {
   "cell_type": "code",
   "execution_count": 1,
   "metadata": {},
   "outputs": [
    {
     "name": "stderr",
     "output_type": "stream",
     "text": [
      "/usr/local/lib/python3.6/dist-packages/dask/config.py:168: YAMLLoadWarning: calling yaml.load() without Loader=... is deprecated, as the default Loader is unsafe. Please read https://msg.pyyaml.org/load for full details.\n",
      "  data = yaml.load(f.read()) or {}\n",
      "/usr/local/lib/python3.6/dist-packages/statsmodels/tools/_testing.py:19: FutureWarning: pandas.util.testing is deprecated. Use the functions in the public API at pandas.testing instead.\n",
      "  import pandas.util.testing as tm\n"
     ]
    }
   ],
   "source": [
    "import anndata as ad\n",
    "import numpy as np\n",
    "import scipy as sp\n",
    "import pandas as pd\n",
    "import seaborn as sns\n",
    "import sys\n",
    "import torch\n",
    "import os\n",
    "import matplotlib.pyplot as plt\n",
    "\n",
    "from sklearn.neighbors import NearestNeighbors\n",
    "from sklearn.preprocessing import normalize\n",
    "from sklearn.metrics import pairwise_distances"
   ]
  },
  {
   "cell_type": "markdown",
   "metadata": {},
   "source": [
    "### Neighborhood"
   ]
  },
  {
   "cell_type": "code",
   "execution_count": 4,
   "metadata": {},
   "outputs": [],
   "source": [
    "meta = pd.read_csv('../bmmc.rna.meta.csv')\n",
    "merge = pd.read_csv('../results/raw/Seurat_UMAP.csv') #,header=None)\n",
    "out_x = merge.iloc[0:20009,1:].to_numpy()\n",
    "out_y = merge.iloc[20009:,1:].to_numpy()\n",
    "merge = merge.iloc[:,1:].to_numpy()\n"
   ]
  },
  {
   "cell_type": "code",
   "execution_count": 5,
   "metadata": {},
   "outputs": [],
   "source": [
    "match_matrix = pairwise_distances(out_x, \n",
    "                                  out_y, metric=\"euclidean\")\n",
    "#match_matrix = np.exp(-match_matrix)\n",
    "\n",
    "batch_code = meta['batch'].to_numpy()\n",
    "\n",
    "match_matrix_1 = match_matrix[batch_code=='s1d2',:]\n",
    "match_matrix_1 = match_matrix_1[:,batch_code=='s1d2']\n",
    "\n",
    "match_matrix_2 = match_matrix[batch_code=='s3d7',:]\n",
    "match_matrix_2 = match_matrix_2[:,batch_code=='s3d7']\n",
    "\n"
   ]
  },
  {
   "cell_type": "code",
   "execution_count": 6,
   "metadata": {},
   "outputs": [],
   "source": [
    "neighbor_1 = np.argsort(match_matrix_1, axis=1, kind='stable')\n",
    "neighbor_1 = np.argsort(neighbor_1, axis=1, kind='stable')\n",
    "\n",
    "writer = open('../results/raw/neighborhood_s1d2_seurat.txt','w')\n",
    "writer.write('\\n'.join(np.diag(neighbor_1).astype('str').tolist()))\n",
    "writer.close()\n",
    "\n",
    "\n",
    "neighbor_2 = np.argsort(match_matrix_2, axis=1, kind='stable')\n",
    "neighbor_2 = np.argsort(neighbor_2, axis=1, kind='stable')\n",
    "\n",
    "writer = open('../results/raw/neighborhood_s3d7_seurat.txt','w')\n",
    "writer.write('\\n'.join(np.diag(neighbor_2).astype('str').tolist()))\n",
    "writer.close()\n",
    "\n"
   ]
  },
  {
   "cell_type": "code",
   "execution_count": null,
   "metadata": {},
   "outputs": [],
   "source": []
  },
  {
   "cell_type": "code",
   "execution_count": null,
   "metadata": {},
   "outputs": [],
   "source": []
  }
 ],
 "metadata": {
  "kernelspec": {
   "display_name": "Python 3",
   "language": "python",
   "name": "python3"
  },
  "language_info": {
   "codemirror_mode": {
    "name": "ipython",
    "version": 3
   },
   "file_extension": ".py",
   "mimetype": "text/x-python",
   "name": "python",
   "nbconvert_exporter": "python",
   "pygments_lexer": "ipython3",
   "version": "3.6.13"
  }
 },
 "nbformat": 4,
 "nbformat_minor": 2
}
