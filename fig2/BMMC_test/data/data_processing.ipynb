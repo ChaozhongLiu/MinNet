{
 "cells": [
  {
   "cell_type": "code",
   "execution_count": 1,
   "metadata": {},
   "outputs": [
    {
     "name": "stderr",
     "output_type": "stream",
     "text": [
      "/usr/local/lib/python3.6/dist-packages/dask/config.py:168: YAMLLoadWarning: calling yaml.load() without Loader=... is deprecated, as the default Loader is unsafe. Please read https://msg.pyyaml.org/load for full details.\n",
      "  data = yaml.load(f.read()) or {}\n",
      "/usr/local/lib/python3.6/dist-packages/statsmodels/tools/_testing.py:19: FutureWarning: pandas.util.testing is deprecated. Use the functions in the public API at pandas.testing instead.\n",
      "  import pandas.util.testing as tm\n"
     ]
    }
   ],
   "source": [
    "import scanpy as sc\n",
    "import anndata as ad\n",
    "import numpy as np\n",
    "import pandas as pd\n",
    "import matplotlib.pyplot as plt\n",
    "import seaborn as sns\n",
    "import scipy as sp\n",
    "\n",
    "from matplotlib import colors\n",
    "\n",
    "import os\n",
    "import anndata\n",
    "\n",
    "#sc.set_figure_params(scanpy=True, dpi=80, dpi_save=250,\n",
    "#                     frameon=False,\n",
    "#                     color_map=\"YlGnBu\", format='pdf', transparent=False,\n",
    "#                     ipython_format='png2x', figsize=(8,8))\n"
   ]
  },
  {
   "cell_type": "code",
   "execution_count": 2,
   "metadata": {},
   "outputs": [],
   "source": [
    "input_mod1 = ad.read_h5ad('Multiome_GEX.test.h5ad')\n",
    "input_mod2 = ad.read_h5ad('Multiome_ATAC.test.h5ad')\n"
   ]
  },
  {
   "cell_type": "code",
   "execution_count": 4,
   "metadata": {},
   "outputs": [
    {
     "data": {
      "text/plain": [
       "True"
      ]
     },
     "execution_count": 4,
     "metadata": {},
     "output_type": "execute_result"
    }
   ],
   "source": [
    "np.all(input_mod1.obs_names == input_mod2.obs_names)"
   ]
  },
  {
   "cell_type": "code",
   "execution_count": 6,
   "metadata": {},
   "outputs": [],
   "source": [
    "input_mod2_gene = ad.AnnData(\n",
    "    X = input_mod2.obsm['gene_activity'],\n",
    "    obs = input_mod2.obs,\n",
    ")\n",
    "\n",
    "input_mod2_gene.var_names = input_mod2.uns['gene_activity_var_names']\n"
   ]
  },
  {
   "cell_type": "code",
   "execution_count": 7,
   "metadata": {},
   "outputs": [],
   "source": [
    "input_mod2_gene.write_h5ad('Multiome_ATAC.test.h5ad')"
   ]
  },
  {
   "cell_type": "code",
   "execution_count": 5,
   "metadata": {},
   "outputs": [],
   "source": [
    "input_mod2.write_h5ad('Multiome_ATAC.peak.h5ad')"
   ]
  },
  {
   "cell_type": "code",
   "execution_count": null,
   "metadata": {},
   "outputs": [],
   "source": []
  },
  {
   "cell_type": "code",
   "execution_count": null,
   "metadata": {},
   "outputs": [],
   "source": []
  },
  {
   "cell_type": "code",
   "execution_count": 3,
   "metadata": {},
   "outputs": [],
   "source": [
    "input_mod1 = ad.read_h5ad('common/openproblems_bmmc_cite_phase2/openproblems_bmmc_cite_phase2.manual_formatting.output_rna.h5ad')\n",
    "input_mod2 = ad.read_h5ad('common/openproblems_bmmc_cite_phase2/openproblems_bmmc_cite_phase2.manual_formatting.output_mod2.h5ad')\n",
    "\n",
    "input_mod1 = input_mod1[input_mod1.obs['batch'].isin(['s4d1','s4d8','s4d9'])]\n",
    "input_mod2 = input_mod2[input_mod2.obs['batch'].isin(['s4d1','s4d8','s4d9'])]\n",
    "\n",
    "input_mod1.write_h5ad('Cite_GEX_processed.test.h5ad')\n",
    "input_mod2.write_h5ad('Cite_ATAC_processed.test.h5ad')"
   ]
  },
  {
   "cell_type": "code",
   "execution_count": null,
   "metadata": {},
   "outputs": [],
   "source": []
  }
 ],
 "metadata": {
  "kernelspec": {
   "display_name": "Python 3",
   "language": "python",
   "name": "python3"
  },
  "language_info": {
   "codemirror_mode": {
    "name": "ipython",
    "version": 3
   },
   "file_extension": ".py",
   "mimetype": "text/x-python",
   "name": "python",
   "nbconvert_exporter": "python",
   "pygments_lexer": "ipython3",
   "version": "3.6.13"
  }
 },
 "nbformat": 4,
 "nbformat_minor": 2
}
