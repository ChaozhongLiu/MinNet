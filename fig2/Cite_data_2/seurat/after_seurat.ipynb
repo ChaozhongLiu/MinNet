{
 "cells": [
  {
   "cell_type": "code",
   "execution_count": 1,
   "metadata": {},
   "outputs": [
    {
     "name": "stderr",
     "output_type": "stream",
     "text": [
      "/usr/local/lib/python3.6/dist-packages/dask/config.py:168: YAMLLoadWarning: calling yaml.load() without Loader=... is deprecated, as the default Loader is unsafe. Please read https://msg.pyyaml.org/load for full details.\n",
      "  data = yaml.load(f.read()) or {}\n",
      "/usr/local/lib/python3.6/dist-packages/statsmodels/tools/_testing.py:19: FutureWarning: pandas.util.testing is deprecated. Use the functions in the public API at pandas.testing instead.\n",
      "  import pandas.util.testing as tm\n"
     ]
    }
   ],
   "source": [
    "import anndata as ad\n",
    "import numpy as np\n",
    "import scipy as sp\n",
    "import pandas as pd\n",
    "import seaborn as sns\n",
    "import sys\n",
    "import torch\n",
    "import os\n",
    "import matplotlib.pyplot as plt\n",
    "\n",
    "from sklearn.neighbors import NearestNeighbors\n",
    "from sklearn.preprocessing import normalize\n",
    "from sklearn.metrics import pairwise_distances"
   ]
  },
  {
   "cell_type": "markdown",
   "metadata": {},
   "source": [
    "### Neighborhood"
   ]
  },
  {
   "cell_type": "code",
   "execution_count": 2,
   "metadata": {},
   "outputs": [],
   "source": [
    "meta = pd.read_csv('../cite.rna.meta.csv')\n",
    "merge = pd.read_csv('../results/raw/Seurat_pca.csv') #,header=None)\n",
    "out_x = merge.iloc[0:15066,1:].to_numpy()\n",
    "out_y = merge.iloc[15066:,1:].to_numpy()\n",
    "merge = merge.iloc[:,1:].to_numpy()\n"
   ]
  },
  {
   "cell_type": "code",
   "execution_count": 3,
   "metadata": {},
   "outputs": [],
   "source": [
    "match_matrix = pairwise_distances(out_x, \n",
    "                                  out_y, metric=\"euclidean\")\n",
    "#match_matrix = np.exp(-match_matrix)\n",
    "\n",
    "batch_code = meta['batch'].to_numpy()\n",
    "\n",
    "match_matrix_1 = match_matrix[batch_code=='s4d1',:]\n",
    "match_matrix_1 = match_matrix_1[:,batch_code=='s4d1']\n",
    "\n",
    "match_matrix_2 = match_matrix[batch_code=='s4d8',:]\n",
    "match_matrix_2 = match_matrix_2[:,batch_code=='s4d8']\n",
    "\n",
    "match_matrix_3 = match_matrix[batch_code=='s4d9',:]\n",
    "match_matrix_3 = match_matrix_3[:,batch_code=='s4d9']"
   ]
  },
  {
   "cell_type": "code",
   "execution_count": 4,
   "metadata": {},
   "outputs": [],
   "source": [
    "neighbor_1 = np.argsort(match_matrix_1, axis=1, kind='stable')\n",
    "neighbor_1 = np.argsort(neighbor_1, axis=1, kind='stable')\n",
    "\n",
    "neighbor_1 = np.argsort(match_matrix_1, axis=1, kind='stable')\n",
    "neighbor_1 = np.argsort(neighbor_1, axis=1, kind='stable')\n",
    "writer = open('../results/raw/neighborhood_s4d1_Seurat.txt','w')\n",
    "writer.write('\\n'.join(np.diag(neighbor_1).astype('str').tolist()))\n",
    "writer.close()\n",
    "\n",
    "\n",
    "neighbor_2 = np.argsort(match_matrix_2, axis=1, kind='stable')\n",
    "neighbor_2 = np.argsort(neighbor_2, axis=1, kind='stable')\n",
    "writer = open('../results/raw/neighborhood_s4d8_Seurat.txt','w')\n",
    "writer.write('\\n'.join(np.diag(neighbor_2).astype('str').tolist()))\n",
    "writer.close()\n",
    "\n",
    "\n",
    "neighbor_3 = np.argsort(match_matrix_3, axis=1, kind='stable')\n",
    "neighbor_3 = np.argsort(neighbor_3, axis=1, kind='stable')\n",
    "writer = open('../results/raw/neighborhood_s4d9_Seurat.txt','w')\n",
    "writer.write('\\n'.join(np.diag(neighbor_3).astype('str').tolist()))\n",
    "writer.close()"
   ]
  },
  {
   "cell_type": "code",
   "execution_count": null,
   "metadata": {},
   "outputs": [],
   "source": []
  },
  {
   "cell_type": "code",
   "execution_count": null,
   "metadata": {},
   "outputs": [],
   "source": []
  },
  {
   "cell_type": "markdown",
   "metadata": {},
   "source": [
    "### Silhoutte score"
   ]
  },
  {
   "cell_type": "code",
   "execution_count": 5,
   "metadata": {},
   "outputs": [],
   "source": [
    "meta = pd.read_csv('../cite.rna.meta.csv')\n",
    "merge = pd.read_csv('../results/raw/Seurat_pca.csv') #,header=None)\n",
    "out_x = merge.iloc[0:15066,1:].to_numpy()\n",
    "out_y = merge.iloc[15066:,1:].to_numpy()\n",
    "merge = merge.iloc[:,1:].to_numpy()"
   ]
  },
  {
   "cell_type": "code",
   "execution_count": 4,
   "metadata": {},
   "outputs": [],
   "source": [
    "from sklearn.metrics import silhouette_score\n",
    "merge = np.concatenate((out_x, out_y), axis=0)\n",
    "\n",
    "ct_int = meta['cell_type'].astype('category').cat.codes.to_numpy().astype('int')\n",
    "\n",
    "ct_int = np.concatenate((ct_int,ct_int), axis=0)\n",
    "tech_int = np.concatenate((np.zeros(meta.shape[0]),\n",
    "                          np.ones(meta.shape[0])), axis=0)\n",
    "batch_int = np.concatenate((meta['batch'].to_numpy(),\n",
    "                            meta['batch'].to_numpy()), axis=0)\n",
    "\n",
    "silhouette_ct = silhouette_score(merge, ct_int)\n",
    "silhouette_tech = silhouette_score(merge, tech_int)\n",
    "silhouette_batch = silhouette_score(merge, batch_int)\n"
   ]
  },
  {
   "cell_type": "code",
   "execution_count": 5,
   "metadata": {},
   "outputs": [
    {
     "name": "stdout",
     "output_type": "stream",
     "text": [
      "-0.03814076409514854\n",
      "0.9448424733985693\n",
      "1.0069581123900704\n"
     ]
    }
   ],
   "source": [
    "print(silhouette_ct)\n",
    "print(1-silhouette_tech)\n",
    "print(1-silhouette_batch)\n"
   ]
  },
  {
   "cell_type": "code",
   "execution_count": null,
   "metadata": {},
   "outputs": [],
   "source": []
  },
  {
   "cell_type": "markdown",
   "metadata": {},
   "source": [
    "### Save embed"
   ]
  },
  {
   "cell_type": "code",
   "execution_count": 2,
   "metadata": {},
   "outputs": [],
   "source": [
    "meta = pd.read_csv('../cite.rna.meta.csv')\n",
    "merge = pd.read_csv('../results/raw/Seurat_pca.csv') #,header=None)\n",
    "out_x = merge.iloc[0:15066,1:].to_numpy()\n",
    "out_y = merge.iloc[15066:,1:].to_numpy()\n",
    "#merge = merge.iloc[:,1:].to_numpy()\n"
   ]
  },
  {
   "cell_type": "code",
   "execution_count": 3,
   "metadata": {},
   "outputs": [],
   "source": [
    "embed_df = pd.DataFrame(np.concatenate((out_y,out_x),axis=0))\n",
    "embed_df.insert(0,'index',merge['Unnamed: 0'].to_numpy())\n",
    "embed_df.to_csv('../results/raw/Seurat_embed.csv',index=None)"
   ]
  },
  {
   "cell_type": "code",
   "execution_count": null,
   "metadata": {},
   "outputs": [],
   "source": []
  },
  {
   "cell_type": "code",
   "execution_count": null,
   "metadata": {},
   "outputs": [],
   "source": []
  }
 ],
 "metadata": {
  "kernelspec": {
   "display_name": "Python 3",
   "language": "python",
   "name": "python3"
  },
  "language_info": {
   "codemirror_mode": {
    "name": "ipython",
    "version": 3
   },
   "file_extension": ".py",
   "mimetype": "text/x-python",
   "name": "python",
   "nbconvert_exporter": "python",
   "pygments_lexer": "ipython3",
   "version": "3.6.13"
  }
 },
 "nbformat": 4,
 "nbformat_minor": 2
}
