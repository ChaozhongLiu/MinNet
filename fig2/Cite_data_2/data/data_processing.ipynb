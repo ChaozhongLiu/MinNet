{
 "cells": [
  {
   "cell_type": "code",
   "execution_count": 1,
   "metadata": {},
   "outputs": [
    {
     "name": "stderr",
     "output_type": "stream",
     "text": [
      "/usr/local/lib/python3.6/dist-packages/dask/config.py:168: YAMLLoadWarning: calling yaml.load() without Loader=... is deprecated, as the default Loader is unsafe. Please read https://msg.pyyaml.org/load for full details.\n",
      "  data = yaml.load(f.read()) or {}\n"
     ]
    }
   ],
   "source": [
    "import numpy as np\n",
    "import pandas as pd\n",
    "import logging\n",
    "from sklearn.decomposition import TruncatedSVD\n",
    "from sklearn.linear_model import LinearRegression\n",
    "from sklearn.metrics import mean_squared_error\n",
    "\n",
    "import scanpy as sc\n",
    "import anndata as ad\n",
    "import matplotlib.pyplot as plt\n",
    "\n"
   ]
  },
  {
   "cell_type": "markdown",
   "metadata": {},
   "source": [
    "### Change cell types"
   ]
  },
  {
   "cell_type": "code",
   "execution_count": 2,
   "metadata": {},
   "outputs": [],
   "source": [
    "adata_gex = ad.read_h5ad('Cite_GEX.test.h5ad')\n",
    "adata_adt = ad.read_h5ad('Cite_ADT.test.h5ad')"
   ]
  },
  {
   "cell_type": "code",
   "execution_count": 5,
   "metadata": {},
   "outputs": [],
   "source": [
    "#merge cell type\n",
    "adata_gex.obs['cell_type_42'] = adata_gex.obs['cell_type']\n",
    "adata_gex.obs['cell_type'] = adata_gex.obs['cell_type'].astype(str)"
   ]
  },
  {
   "cell_type": "code",
   "execution_count": 6,
   "metadata": {},
   "outputs": [],
   "source": [
    "adata_gex.obs.loc[adata_gex.obs['cell_type'].str.startswith('B1'), \n",
    "                         'cell_type'] = 'B1 B'\n",
    "adata_gex.obs.loc[adata_gex.obs['cell_type'].str.startswith('CD4+'), \n",
    "                         'cell_type'] = 'CD4+ T'\n",
    "adata_gex.obs.loc[adata_gex.obs['cell_type'].str.startswith('CD8+'), \n",
    "                         'cell_type'] = 'CD8+ T'\n",
    "adata_gex.obs.loc[adata_gex.obs['cell_type'].str.startswith('ILC'), \n",
    "                         'cell_type'] = 'ILC'\n",
    "adata_gex.obs.loc[adata_gex.obs['cell_type'].str.startswith('NK'), \n",
    "                         'cell_type'] = 'NK'\n",
    "adata_gex.obs.loc[adata_gex.obs['cell_type'].str.startswith('Naive CD20+'), \n",
    "                         'cell_type'] = 'Naive CD20+ B'\n",
    "adata_gex.obs.loc[adata_gex.obs['cell_type'].str.startswith('Plasma'), \n",
    "                         'cell_type'] = 'Plasma'\n",
    "adata_gex.obs.loc[adata_gex.obs['cell_type'].str.startswith('cDC'), \n",
    "                         'cell_type'] = 'cDC'\n",
    "adata_gex.obs.loc[adata_gex.obs['cell_type'].str.startswith('gdT'), \n",
    "                         'cell_type'] = 'gdT'\n",
    "\n",
    "adata_gex.obs['cell_type'] = adata_gex.obs['cell_type'].astype('category')\n"
   ]
  },
  {
   "cell_type": "code",
   "execution_count": 7,
   "metadata": {},
   "outputs": [
    {
     "data": {
      "text/plain": [
       "True"
      ]
     },
     "execution_count": 7,
     "metadata": {},
     "output_type": "execute_result"
    }
   ],
   "source": [
    "np.all(adata_adt.obs_names == adata_gex.obs_names)"
   ]
  },
  {
   "cell_type": "code",
   "execution_count": 8,
   "metadata": {},
   "outputs": [],
   "source": [
    "adata_adt.obs['cell_type_42'] = adata_adt.obs['cell_type']\n",
    "adata_adt.obs['cell_type'] = adata_gex.obs['cell_type']"
   ]
  },
  {
   "cell_type": "code",
   "execution_count": 10,
   "metadata": {},
   "outputs": [
    {
     "data": {
      "text/plain": [
       "CD8+ T             3001\n",
       "CD4+ T             2461\n",
       "Naive CD20+ B      1728\n",
       "NK                 1537\n",
       "CD14+ Mono         1086\n",
       "Lymph prog          593\n",
       "Proerythroblast     555\n",
       "Transitional B      504\n",
       "gdT                 414\n",
       "B1 B                348\n",
       "Reticulocyte        340\n",
       "HSC                 337\n",
       "G/M prog            328\n",
       "Erythroblast        312\n",
       "MAIT                240\n",
       "CD16+ Mono          231\n",
       "ILC                 230\n",
       "MK/E prog           179\n",
       "cDC                 176\n",
       "T reg               162\n",
       "Normoblast          130\n",
       "Plasma               87\n",
       "pDC                  87\n",
       "Name: cell_type, dtype: int64"
      ]
     },
     "execution_count": 10,
     "metadata": {},
     "output_type": "execute_result"
    }
   ],
   "source": [
    "adata_adt.obs['cell_type'].value_counts() #23"
   ]
  },
  {
   "cell_type": "code",
   "execution_count": 11,
   "metadata": {},
   "outputs": [],
   "source": [
    "adata_gex.write_h5ad('Cite_GEX.test.h5ad')\n",
    "adata_adt.write_h5ad('Cite_ADT.test.h5ad')"
   ]
  },
  {
   "cell_type": "code",
   "execution_count": null,
   "metadata": {},
   "outputs": [],
   "source": []
  },
  {
   "cell_type": "code",
   "execution_count": null,
   "metadata": {},
   "outputs": [],
   "source": []
  },
  {
   "cell_type": "code",
   "execution_count": null,
   "metadata": {},
   "outputs": [],
   "source": []
  }
 ],
 "metadata": {
  "kernelspec": {
   "display_name": "Python 3",
   "language": "python",
   "name": "python3"
  },
  "language_info": {
   "codemirror_mode": {
    "name": "ipython",
    "version": 3
   },
   "file_extension": ".py",
   "mimetype": "text/x-python",
   "name": "python",
   "nbconvert_exporter": "python",
   "pygments_lexer": "ipython3",
   "version": "3.6.13"
  }
 },
 "nbformat": 4,
 "nbformat_minor": 2
}
