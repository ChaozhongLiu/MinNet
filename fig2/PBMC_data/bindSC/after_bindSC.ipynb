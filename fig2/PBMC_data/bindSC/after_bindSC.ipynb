{
 "cells": [
  {
   "cell_type": "code",
   "execution_count": 1,
   "metadata": {},
   "outputs": [
    {
     "name": "stderr",
     "output_type": "stream",
     "text": [
      "/usr/local/lib/python3.6/dist-packages/dask/config.py:168: YAMLLoadWarning: calling yaml.load() without Loader=... is deprecated, as the default Loader is unsafe. Please read https://msg.pyyaml.org/load for full details.\n",
      "  data = yaml.load(f.read()) or {}\n",
      "/usr/local/lib/python3.6/dist-packages/statsmodels/tools/_testing.py:19: FutureWarning: pandas.util.testing is deprecated. Use the functions in the public API at pandas.testing instead.\n",
      "  import pandas.util.testing as tm\n"
     ]
    }
   ],
   "source": [
    "import anndata as ad\n",
    "import numpy as np\n",
    "import scipy as sp\n",
    "import pandas as pd\n",
    "import seaborn as sns\n",
    "import sys\n",
    "import torch\n",
    "import os\n",
    "import matplotlib.pyplot as plt\n",
    "\n",
    "from sklearn.neighbors import NearestNeighbors\n",
    "from sklearn.preprocessing import normalize\n",
    "from sklearn.metrics import pairwise_distances"
   ]
  },
  {
   "cell_type": "code",
   "execution_count": 4,
   "metadata": {},
   "outputs": [
    {
     "data": {
      "text/plain": [
       "True"
      ]
     },
     "execution_count": 4,
     "metadata": {},
     "output_type": "execute_result"
    }
   ],
   "source": [
    "meta = pd.read_csv('../data/rna.meta.csv',sep='\\t')\n",
    "out_x = pd.read_csv('bindsc_embed.rna.txt',header=None)\n",
    "out_y = pd.read_csv('bindsc_embed.atac.txt',header=None)\n",
    "\n",
    "np.all(meta.index.to_numpy() == out_y[0].to_numpy())"
   ]
  },
  {
   "cell_type": "code",
   "execution_count": 5,
   "metadata": {},
   "outputs": [],
   "source": [
    "match_matrix = pairwise_distances(out_x.iloc[:,1:].to_numpy(), \n",
    "                                  out_y.iloc[:,1:].to_numpy(), metric=\"euclidean\")\n",
    "\n",
    "neighbor_1 = np.argsort(match_matrix, axis=1, kind='stable')\n",
    "neighbor_1 = np.argsort(neighbor_1, axis=1, kind='stable')\n",
    "\n",
    "writer = open('../results/raw/neighborhood_bindSC.txt','w')\n",
    "writer.write('\\n'.join(np.diag(neighbor_1).astype('str').tolist()))\n",
    "writer.close()\n"
   ]
  },
  {
   "cell_type": "code",
   "execution_count": 6,
   "metadata": {},
   "outputs": [],
   "source": [
    "merge = np.concatenate((out_x.iloc[:,1:].to_numpy(), \n",
    "                        out_y.iloc[:,1:].to_numpy()), axis=0)\n",
    "merge = pd.DataFrame(merge)\n",
    "merge.insert(0, 'index', np.concatenate((meta.index.to_numpy(), \n",
    "                                         meta.index.to_numpy()), axis=0))\n",
    "merge.to_csv('../results/raw/bindSC_embed.txt', index=False)"
   ]
  },
  {
   "cell_type": "code",
   "execution_count": null,
   "metadata": {},
   "outputs": [],
   "source": []
  },
  {
   "cell_type": "markdown",
   "metadata": {},
   "source": [
    "### Label transfer accuracy"
   ]
  },
  {
   "cell_type": "code",
   "execution_count": 51,
   "metadata": {},
   "outputs": [],
   "source": [
    "meta = pd.read_csv('../data/rna.meta.csv',sep='\\t')\n",
    "out_x = pd.read_csv('bindsc_embed.rna.txt',header=None).iloc[:,1:].to_numpy()\n",
    "out_y = pd.read_csv('bindsc_embed.atac.txt',header=None).iloc[:,1:].to_numpy()\n"
   ]
  },
  {
   "cell_type": "code",
   "execution_count": 52,
   "metadata": {},
   "outputs": [],
   "source": [
    "input_mod1 = ad.read_h5ad('../data/PBMC_10X_GEX.h5ad')\n"
   ]
  },
  {
   "cell_type": "code",
   "execution_count": 53,
   "metadata": {},
   "outputs": [
    {
     "data": {
      "text/plain": [
       "True"
      ]
     },
     "execution_count": 53,
     "metadata": {},
     "output_type": "execute_result"
    }
   ],
   "source": [
    "np.all(meta.index == input_mod1.obs_names)"
   ]
  },
  {
   "cell_type": "code",
   "execution_count": 54,
   "metadata": {},
   "outputs": [],
   "source": [
    "from sklearn.decomposition import PCA\n",
    "from sklearn.neighbors import KNeighborsClassifier\n",
    "\n",
    "def KNN_acc(representations, labels, nn=5):\n",
    "    indeces = np.arange(representations.shape[0])\n",
    "    X_reduced = representations\n",
    "    neigh = KNeighborsClassifier(n_neighbors=nn, weights='distance')\n",
    "    n = int(len(representations) // 2)\n",
    "    neigh.fit(X_reduced[0:n,:], labels)\n",
    "    ylabel = neigh.predict(X_reduced[n:,:])\n",
    "    check = len(ylabel) == n\n",
    "    #print(check)\n",
    "    acc = np.mean(labels == ylabel)\n",
    "    print(\"Accuracy is %s\"%(acc))\n",
    "    return ylabel"
   ]
  },
  {
   "cell_type": "code",
   "execution_count": 55,
   "metadata": {},
   "outputs": [],
   "source": [
    "merge = np.concatenate((out_x, out_y), axis=0)\n",
    "labels = meta['seurat_annotations'].to_numpy()"
   ]
  },
  {
   "cell_type": "code",
   "execution_count": 56,
   "metadata": {},
   "outputs": [
    {
     "name": "stdout",
     "output_type": "stream",
     "text": [
      "Accuracy is 0.8705339992316558\n"
     ]
    }
   ],
   "source": [
    "#for i in range(5,105,5):\n",
    "#    print(i)\n",
    "#    pred_y = KNN_acc(merge, labels, nn=i)\n",
    "#    print()\n",
    "pred_y = KNN_acc(merge, labels, nn=20)"
   ]
  },
  {
   "cell_type": "code",
   "execution_count": 61,
   "metadata": {},
   "outputs": [],
   "source": [
    "input_mod1.obs['cell_type_name'] = input_mod1.obs['seurat_annotations']\n",
    "input_mod1.obs['cell_type'] = input_mod1.obs['seurat_annotations'].cat.codes\n",
    "cell_type_code = input_mod1.obs[['cell_type','cell_type_name']]\n",
    "cell_type_code = pd.DataFrame({'code':cell_type_code['cell_type'].unique(),\n",
    "                              'name':cell_type_code['cell_type_name'].unique()})\n",
    "cell_type_code = cell_type_code.sort_values('code')\n",
    "cell_type_code.index = cell_type_code['code']\n",
    "\n",
    "#pred_y = cell_type_code.loc[pred_y,'name'].to_numpy()\n",
    "#labels_x = input_mod1.obs['cell_type_name'].to_numpy()\n"
   ]
  },
  {
   "cell_type": "code",
   "execution_count": 58,
   "metadata": {},
   "outputs": [],
   "source": [
    "pred_df = pd.DataFrame({'cell_type':labels,'prediction':pred_y})\n",
    "pred_df.to_csv('../results/raw/bindSC_prediction.txt')"
   ]
  },
  {
   "cell_type": "code",
   "execution_count": 59,
   "metadata": {},
   "outputs": [
    {
     "data": {
      "text/plain": [
       "0.8705339992316558"
      ]
     },
     "execution_count": 59,
     "metadata": {},
     "output_type": "execute_result"
    }
   ],
   "source": [
    "np.mean(pred_df['cell_type'] == pred_df['prediction'])"
   ]
  },
  {
   "cell_type": "code",
   "execution_count": 62,
   "metadata": {},
   "outputs": [],
   "source": [
    "ct_df = pd.DataFrame({'cell_type':labels,\n",
    "                     'prediction':pred_y})\n",
    "\n",
    "ct_heatmap = pd.DataFrame(np.zeros((19,19)))\n",
    "ct_heatmap.index = input_mod1.obs['cell_type_name'].unique().tolist()\n",
    "ct_heatmap.columns = input_mod1.obs['cell_type_name'].unique().tolist()\n",
    "for i in range(19):\n",
    "    for j in range(19):\n",
    "        tmp = ct_df.loc[(ct_df['cell_type'] == ct_heatmap.index[i]),:]\n",
    "        ct_heatmap.iloc[i,j] = np.mean(tmp['prediction'] == ct_heatmap.columns[j])\n",
    "        "
   ]
  },
  {
   "cell_type": "code",
   "execution_count": 63,
   "metadata": {},
   "outputs": [
    {
     "data": {
      "text/plain": [
       "<AxesSubplot:>"
      ]
     },
     "execution_count": 63,
     "metadata": {},
     "output_type": "execute_result"
    },
    {
     "data": {
      "image/png": "[encoded data removed]",
      "text/plain": [
       "<Figure size 1200x800 with 2 Axes>"
      ]
     },
     "metadata": {},
     "output_type": "display_data"
    }
   ],
   "source": [
    "ct_heatmap.index = ct_heatmap.index + ' - ' + ct_df['cell_type'].value_counts().astype(str)[ct_heatmap.index]\n",
    "sns.set(rc={\"figure.dpi\":200, 'savefig.dpi':100},font_scale=0.4)\n",
    "mask = ct_heatmap.isnull()\n",
    "sns.heatmap(ct_heatmap, mask=mask, cmap=\"BuPu\")"
   ]
  },
  {
   "cell_type": "code",
   "execution_count": 64,
   "metadata": {},
   "outputs": [],
   "source": [
    "acc_df = pd.DataFrame({'cell_type':ct_heatmap.columns.tolist(),\n",
    "                       'bindSC': np.diag(ct_heatmap)})\n",
    "acc_df.to_csv('../results/raw/bindSC_transfer_acc.csv')"
   ]
  },
  {
   "cell_type": "code",
   "execution_count": null,
   "metadata": {},
   "outputs": [],
   "source": []
  },
  {
   "cell_type": "markdown",
   "metadata": {},
   "source": [
    "### Joint embedding"
   ]
  },
  {
   "cell_type": "code",
   "execution_count": 66,
   "metadata": {},
   "outputs": [
    {
     "data": {
      "text/plain": [
       "True"
      ]
     },
     "execution_count": 66,
     "metadata": {},
     "output_type": "execute_result"
    }
   ],
   "source": [
    "meta = pd.read_csv('../data/rna.meta.csv',sep='\\t')\n",
    "out_x = pd.read_csv('bindsc_embed.rna.txt',header=None)\n",
    "out_y = pd.read_csv('bindsc_embed.atac.txt',header=None)\n",
    "\n",
    "np.all(meta.index.to_numpy() == out_y[0].to_numpy())"
   ]
  },
  {
   "cell_type": "code",
   "execution_count": 67,
   "metadata": {},
   "outputs": [
    {
     "name": "stderr",
     "output_type": "stream",
     "text": [
      "Observation names are not unique. To make them unique, call `.obs_names_make_unique`.\n"
     ]
    }
   ],
   "source": [
    "combined = ad.AnnData(\n",
    "    obs = pd.concat([meta, meta], join=\"inner\"),\n",
    "    obsm={\"X_bindSC\": np.concatenate([out_x.iloc[:,1:].to_numpy(),\n",
    "                                    out_y.iloc[:,1:].to_numpy()])}\n",
    ")"
   ]
  },
  {
   "cell_type": "code",
   "execution_count": 68,
   "metadata": {},
   "outputs": [],
   "source": [
    "import scanpy as sc\n",
    "sc.pp.neighbors(combined, use_rep=\"X_bindSC\")\n",
    "sc.tl.umap(combined)\n",
    "#sc.pl.umap(combined, color=[\"cell_type\", \"domain\", \"batch\"], wspace=0.65)"
   ]
  },
  {
   "cell_type": "code",
   "execution_count": 69,
   "metadata": {},
   "outputs": [],
   "source": [
    "combined_embed = pd.DataFrame(combined.obsm['X_umap'])\n",
    "combined_embed.insert(0, 'index', combined.obs_names.to_numpy())\n",
    "combined_embed.columns = ['index','UMAP_1','UMAP_2']\n",
    "combined_embed.to_csv('../results/raw/bindSC_UMAP.txt', index=False)"
   ]
  },
  {
   "cell_type": "code",
   "execution_count": null,
   "metadata": {},
   "outputs": [],
   "source": []
  }
 ],
 "metadata": {
  "kernelspec": {
   "display_name": "Python 3",
   "language": "python",
   "name": "python3"
  },
  "language_info": {
   "codemirror_mode": {
    "name": "ipython",
    "version": 3
   },
   "file_extension": ".py",
   "mimetype": "text/x-python",
   "name": "python",
   "nbconvert_exporter": "python",
   "pygments_lexer": "ipython3",
   "version": "3.6.13"
  }
 },
 "nbformat": 4,
 "nbformat_minor": 2
}
